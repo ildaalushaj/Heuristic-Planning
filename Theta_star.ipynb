{
  "nbformat": 4,
  "nbformat_minor": 0,
  "metadata": {
    "kernelspec": {
      "display_name": "Python 3",
      "language": "python",
      "name": "python3"
    },
    "language_info": {
      "codemirror_mode": {
        "name": "ipython",
        "version": 3
      },
      "file_extension": ".py",
      "mimetype": "text/x-python",
      "name": "python",
      "nbconvert_exporter": "python",
      "pygments_lexer": "ipython3",
      "version": "3.8.3"
    },
    "colab": {
      "name": "Theta.ipynb",
      "provenance": [],
      "collapsed_sections": []
    }
  },
  "cells": [
    {
      "cell_type": "markdown",
      "metadata": {
        "id": "uacZP6JubX8z"
      },
      "source": [
        "### Importing neccessary libraries :"
      ]
    },
    {
      "cell_type": "code",
      "metadata": {
        "id": "R0086xz5bX85"
      },
      "source": [
        "from PIL import Image, ImageDraw\n",
        "import numpy as np\n",
        "import matplotlib.pyplot as plt\n",
        "import math\n",
        "%matplotlib inline\n",
        "EPS = 0.000001"
      ],
      "execution_count": 1,
      "outputs": []
    },
    {
      "cell_type": "code",
      "metadata": {
        "colab": {
          "base_uri": "https://localhost:8080/"
        },
        "id": "rlyHEV8np8no",
        "outputId": "6bc94827-898f-457c-9700-79b0f2db4eb8"
      },
      "source": [
        "from google.colab import drive\n",
        "drive.mount(\"/content/drive\")"
      ],
      "execution_count": 2,
      "outputs": [
        {
          "output_type": "stream",
          "text": [
            "Mounted at /content/drive\n"
          ],
          "name": "stdout"
        }
      ]
    },
    {
      "cell_type": "code",
      "metadata": {
        "colab": {
          "base_uri": "https://localhost:8080/"
        },
        "id": "ojxq8BGfp9UL",
        "outputId": "fd3f78df-02bf-475a-ce7c-555ce1a6caae"
      },
      "source": [
        "cd drive/MyDrive/Colab\\ Notebooks"
      ],
      "execution_count": 3,
      "outputs": [
        {
          "output_type": "stream",
          "text": [
            "/content/drive/MyDrive/Colab Notebooks\n"
          ],
          "name": "stdout"
        }
      ]
    },
    {
      "cell_type": "markdown",
      "metadata": {
        "id": "mAAQGoYPbX88"
      },
      "source": [
        "### Grid map representation and allowed moves on a grid\n",
        "\n",
        "Square grid map class represents agent's environment\n",
        "\n",
        "- width -- the number of rows in grid\n",
        "- height -- the number of columns in grid\n",
        "- cells -- the binary matrix, which represents the grid. 0 - cell is traversable\n",
        "1 - cell is blocked\n",
        "\n"
      ]
    },
    {
      "cell_type": "code",
      "metadata": {
        "id": "ZnDkOWWMbX89"
      },
      "source": [
        "class Map:\n",
        "\n",
        "    # Default constructor\n",
        "    def __init__(self):\n",
        "        self.width = 0\n",
        "        self.height = 0\n",
        "        self.cells = []\n",
        "    \n",
        "    # Initialization of map by string.\n",
        "    def ReadFromString(self, cellStr, width, height):\n",
        "        self.width = width\n",
        "        self.height = height\n",
        "        self.cells = [[0 for _ in range(width)] for _ in range(height)]\n",
        "        cellLines = cellStr.split(\"\\n\")\n",
        "        i = 0\n",
        "        j = 0\n",
        "        for l in cellLines:\n",
        "            if len(l) != 0:\n",
        "                j = 0\n",
        "                for c in l:\n",
        "                    if c == '.':\n",
        "                        self.cells[i][j] = 0\n",
        "                    elif c == '#':\n",
        "                        self.cells[i][j] = 1\n",
        "                    else:\n",
        "                        continue\n",
        "                    j += 1\n",
        "                # TODO\n",
        "                if j != width:\n",
        "                    raise Exception(\"Size Error. Map width = \", j, \", but must be\", width )\n",
        "                \n",
        "                i += 1\n",
        "\n",
        "        if i != height:\n",
        "            raise Exception(\"Size Error. Map height = \", i, \", but must be\", height )\n",
        "    \n",
        "    # Initialization of map by list of cells.\n",
        "    def SetGridCells(self, width, height, gridCells,corner):\n",
        "        self.width = width\n",
        "        self.height = height\n",
        "        self.cells = gridCells\n",
        "        self.corner = corner\n",
        "\n",
        "    # Checks cell is on grid.\n",
        "    def inBounds(self, i, j):\n",
        "        return (0 <= j < self.width) and (0 <= i < self.height)\n",
        "    \n",
        "    # Checks cell is not obstacle.\n",
        "    def Traversable(self, i, j):\n",
        "        return not self.cells[i][j]\n",
        "\n",
        "      # Checks cell is not obstacle.\n",
        "    def Traversable_(self, i, j, x, y):\n",
        "        ans = True\n",
        "        dx = x - i\n",
        "        dy = y - j\n",
        "        if dy == 0 or dx == 0:\n",
        "            return not self.cells[x][y]\n",
        "          \n",
        "        d_max = max(abs(dx), abs(dy))\n",
        "\n",
        "        if d_max == abs(dy):\n",
        "            if dy > 0:\n",
        "                for delta_y in range(1, dy + 1):\n",
        "                    delta_x = dx*delta_y/dy\n",
        "                    if abs(round(delta_x) - delta_x) < 10e-6:\n",
        "                        if self.cells[i + math.floor(delta_x)][j + math.floor(delta_y)]:\n",
        "                            ans = False\n",
        "                    else:\n",
        "                        if self.cells[i + math.floor(delta_x)][j + math.floor(delta_y)] or self.cells[i + math.floor(delta_x) + 1][j + math.floor(delta_y)]:\n",
        "                            ans = False\n",
        "            else:\n",
        "                for delta_y in range(dy, 0):               \n",
        "                    delta_x = dx*delta_y/dy\n",
        "                    if abs(round(delta_x) - delta_x) < 10e-6:\n",
        "                        if self.cells[i + math.floor(delta_x)][j + math.floor(delta_y)]:\n",
        "                            ans = False\n",
        "                    else:\n",
        "                        if self.cells[i + math.floor(delta_x)][j + math.floor(delta_y)] or self.cells[i + math.floor(delta_x) + 1][j + math.floor(delta_y)]:\n",
        "                            ans = False\n",
        "        else:\n",
        "            if dx > 0:\n",
        "                for delta_x in range(1, dx + 1):\n",
        "                    delta_y = dy*delta_x/dx\n",
        "                    if abs(round(delta_y) - delta_y) < 10e-6:\n",
        "                        if self.cells[i + math.floor(delta_x)][j + math.floor(delta_y)]:\n",
        "                            ans = False\n",
        "                    else:\n",
        "                        if self.cells[i + math.floor(delta_x)][j + math.floor(delta_y)] or self.cells[i + math.floor(delta_x)][j + math.floor(delta_y) + 1]:\n",
        "                            ans = False\n",
        "            else:\n",
        "                for delta_x in range(dx, 0):               \n",
        "                    delta_y = dy*delta_x/dx\n",
        "                    if abs(round(delta_y) - delta_y) < 10e-6:\n",
        "                        if self.cells[i + math.floor(delta_x)][j + math.floor(delta_y)]:\n",
        "                            ans = False\n",
        "                    else:\n",
        "                        if self.cells[i + math.floor(delta_x)][j + math.floor(delta_y)] or self.cells[i + math.floor(delta_x)][j + math.floor(delta_y) + 1]:\n",
        "                            ans = False\n",
        "        return ans\n",
        "\n",
        "    \n",
        "    # Creates a list of neighbour cells as (i,j) tuples.\n",
        "    def GetNeighbors(self, i, j):\n",
        "        # TODO Change the function so that the list includes the diagonal neighbors of the cell.\n",
        "        # Cutting corners must be prohibited\n",
        "        neighbors = []\n",
        "        \n",
        "        for di in [-1, 0, 1]:\n",
        "            for dj in [-1, 0, 1]:\n",
        "                if self.inBounds(i + di, j + dj) and self.Traversable(i + di, j + dj):\n",
        "                    if abs(di) + abs(dj) == 1:  # cross\n",
        "                        neighbors.append((i + di, j + dj))\n",
        "                    elif abs(di) + abs(dj) == 2:  # diagonal\n",
        "                        if self.Traversable(i, j + dj) and self.Traversable(i + di, j):\n",
        "                            neighbors.append((i + di, j + dj))\n",
        "\n",
        "        return neighbors\n",
        "\n"
      ],
      "execution_count": 4,
      "outputs": []
    },
    {
      "cell_type": "markdown",
      "metadata": {
        "id": "XC2nF4s8bX8-"
      },
      "source": [
        "Computes a cost of transition from cell `(i1, j1)` to cell `(i2, j2)`"
      ]
    },
    {
      "cell_type": "code",
      "metadata": {
        "id": "EeDcXjg8bX8_"
      },
      "source": [
        "def CalculateCost(i1, j1, i2, j2):\n",
        "    return math.sqrt((i1 - i2) ** 2 + (j1 - j2) ** 2)"
      ],
      "execution_count": 5,
      "outputs": []
    },
    {
      "cell_type": "markdown",
      "metadata": {
        "id": "diVRVVDgbX9A"
      },
      "source": [
        "### Node representation\n",
        "\n",
        "Node class represents a search node\n",
        "\n",
        "- i, j: coordinates of corresponding grid element\n",
        "- g: g-value of the node\n",
        "- h: h-value of the node\n",
        "- F: f-value of the node\n",
        "- parent: pointer to the parent-node "
      ]
    },
    {
      "cell_type": "code",
      "metadata": {
        "id": "p0Yo8eUdbX9B"
      },
      "source": [
        "class Node:\n",
        "    def __init__(self, i, j, g = math.inf, h = math.inf, F = None, parent = None, k=0):\n",
        "        self.i = i\n",
        "        self.j = j\n",
        "        self.g = g\n",
        "        if F is None:\n",
        "            self.F = self.g + h\n",
        "        else:\n",
        "            self.F = F        \n",
        "        self.parent = parent\n",
        "        self.k = k\n",
        "    \n",
        "    def __eq__(self, other):\n",
        "        return (self.i == other.i) and (self.j == other.j)\n",
        "    \n",
        "    def __lt__(self, other):\n",
        "        return self.F < other.F or (self.F == other.F and self.k > other.k)"
      ],
      "execution_count": 6,
      "outputs": []
    },
    {
      "cell_type": "code",
      "metadata": {
        "id": "BxfgvFA9bX9D"
      },
      "source": [
        "def Draw(gridMap : Map, start : Node = None, goal : Node = None, path : list = None, nodesExpanded = None, nodesOpened = None):\n",
        "    k = 5\n",
        "    hIm = gridMap.height * k\n",
        "    wIm = gridMap.width * k\n",
        "    im = Image.new('RGB', (wIm, hIm), color = 'white')\n",
        "    draw = ImageDraw.Draw(im)\n",
        "    for i in range(gridMap.height):\n",
        "        for j in range(gridMap.width):\n",
        "            if(gridMap.cells[i][j] == 1):\n",
        "                draw.rectangle((j * k, i * k, (j + 1) * k - 1, (i + 1) * k - 1), fill=( 70, 80, 80 ))\n",
        "\n",
        "    if nodesOpened is not None:\n",
        "        for node in nodesOpened:\n",
        "            draw.rectangle((node.j * k, node.i * k, (node.j + 1) * k - 1, (node.i + 1) * k - 1), fill=(213, 219, 219), width=0)\n",
        "\n",
        "    if nodesExpanded is not None:\n",
        "        for node in nodesExpanded:\n",
        "            draw.rectangle((node.j * k, node.i * k, (node.j + 1) * k - 1, (node.i + 1) * k - 1), fill=( 131, 145, 146 ), width=0)\n",
        "\n",
        "    if path is not None:\n",
        "        for step in path:\n",
        "            if (step is not None):\n",
        "                if (gridMap.Traversable(step.i, step.j)):\n",
        "                    draw.rectangle((step.j * k, step.i * k, (step.j + 1) * k - 1, (step.i + 1) * k - 1), fill=(52, 152, 219), width=0)\n",
        "                else:\n",
        "                    draw.rectangle((step.j * k, step.i * k, (step.j + 1) * k - 1, (step.i + 1) * k - 1), fill=(230, 126, 34), width=0)\n",
        "\n",
        "    if (start is not None) and (gridMap.Traversable(start.i, start.j)):\n",
        "        draw.rectangle((start.j * k, start.i * k, (start.j + 1) * k - 1, (start.i + 1) * k - 1), fill=(40, 180, 99), width=0)\n",
        "    \n",
        "    if (goal is not None) and (gridMap.Traversable(goal.i, goal.j)):\n",
        "        draw.rectangle((goal.j * k, goal.i * k, (goal.j + 1) * k - 1, (goal.i + 1) * k - 1), fill=(231, 76, 60), width=0)\n",
        "\n",
        "\n",
        "    fig, ax = plt.subplots(dpi=150)\n",
        "    ax.axes.xaxis.set_visible(False)\n",
        "    ax.axes.yaxis.set_visible(False)\n",
        "    plt.imshow(np.asarray(im))"
      ],
      "execution_count": 7,
      "outputs": []
    },
    {
      "cell_type": "markdown",
      "metadata": {
        "id": "7jMZlUBLbX9E"
      },
      "source": [
        "### Open and close sets implementation\n",
        "A crucial part of any search algorithm (A* including) is the code for handling OPEN/CLOSED 'lists'. Ineffective implementation of these 'lists' may become a bottleneck, expecially for large instances.Here we implement the OPEN and CLOSED lists for our Theta* algorithm"
      ]
    },
    {
      "cell_type": "code",
      "metadata": {
        "id": "llRxONK5bX9F"
      },
      "source": [
        "from heapq import heappop, heappush\n",
        "\n",
        "class YourOpen:\n",
        "    #!!!TODO!!!\n",
        "    #Create your own modification of OPEN#\n",
        "    def __init__(self):\n",
        "        self.heap = []\n",
        "        self.ij_to_item = {}\n",
        "    \n",
        "    def __iter__(self):\n",
        "        return iter(self.ij_to_item.values())\n",
        "\n",
        "    def __len__(self):\n",
        "        return len(self.ij_to_item)\n",
        "\n",
        "    def isEmpty(self):\n",
        "        return len(self.ij_to_item) == 0\n",
        "\n",
        "    def GetBestNode(self):\n",
        "        item = heappop(self.heap)\n",
        "        ij = (item.i, item.j)\n",
        "        while self.ij_to_item.pop(ij, None) is None:\n",
        "            item = heappop(self.heap)\n",
        "            ij = (item.i, item.j)\n",
        "        return item\n",
        "\n",
        "    def AddNode(self, item : Node):\n",
        "        ij = (item.i, item.j)\n",
        "        item_curr = self.ij_to_item.get(ij)\n",
        "        if item_curr is None or item.g < item_curr.g or abs(item.g - item_curr.g) < EPS:\n",
        "            self.ij_to_item[ij] = item\n",
        "            heappush(self.heap, item)"
      ],
      "execution_count": 8,
      "outputs": []
    },
    {
      "cell_type": "code",
      "metadata": {
        "id": "j63bdatKbX9F"
      },
      "source": [
        "class YourClosed:\n",
        "    #!!!TODO!!!\n",
        "    #Create your own modification of CLOSED#\n",
        "\n",
        "    def __init__(self):\n",
        "        self.elements = {}\n",
        "\n",
        "    def __iter__(self):\n",
        "        return iter(self.elements.values())\n",
        "    \n",
        "    def __len__(self):\n",
        "        return len(self.elements)\n",
        "    \n",
        "    # AddNode is the method that inserts the node to CLOSED\n",
        "    def AddNode(self, item : Node, *args):\n",
        "        ij = item.i, item.j\n",
        "        self.elements[ij] = item\n",
        "\n",
        "    # WasExpanded is the method that checks if a node has been expanded\n",
        "    def WasExpanded(self, item : Node, *args):\n",
        "        ij = item.i, item.j\n",
        "        return ij in self.elements"
      ],
      "execution_count": 9,
      "outputs": []
    },
    {
      "cell_type": "markdown",
      "metadata": {
        "id": "kUSBPHD3bX9G"
      },
      "source": [
        "## A* algorithm with different heuristics\n",
        "Implement 3 different heuristic functions besides the given Manhattan distance - Diagonal distance, Chebyshev distance, Euclidean distance. After that, implement A* using YourOpen and YourClosed.\n",
        "\n",
        "Importanly, your search algorithm needs to return the following:\n",
        "- boolean flag indicating whether the path was found or not\n",
        "- goal state (so you can reconstruct the path later using the parent pointers)\n",
        "- Open and Closed 'lists' so you can use them for further analysis (i.e. computing how many nodes were created within the search process, how many expansions were made etc.)"
      ]
    },
    {
      "cell_type": "code",
      "metadata": {
        "id": "pXS5dvszbX9H"
      },
      "source": [
        "def EuclidDistance(i1, j1, i2, j2):\n",
        "    #!!!TODO!!!\n",
        "    dx, dy = abs(i1 - i2), abs(j1 - j2)\n",
        "    return math.sqrt(dx**2 + dy**2)"
      ],
      "execution_count": 10,
      "outputs": []
    },
    {
      "cell_type": "code",
      "metadata": {
        "id": "WR80yQk-bX9I"
      },
      "source": [
        "def ThetaStar(gridMap : Map, iStart : int, jStart : int, iGoal : int, jGoal : int, heuristicFunction = EuclidDistance):\n",
        "    #!!!TODO!!!\n",
        "    #Implement A* algorithm\n",
        "    OPEN = YourOpen()\n",
        "    CLOSED = YourClosed()\n",
        "    \n",
        "    \n",
        "    node_start = Node(iStart, jStart, g=0, h=heuristicFunction(iStart, jStart, iGoal, jGoal))\n",
        "    node_goal = Node(iGoal, jGoal)\n",
        "    \n",
        "    OPEN.AddNode(node_start)\n",
        "    \n",
        "\n",
        "    while not OPEN.isEmpty():\n",
        "        node = OPEN.GetBestNode()\n",
        "        #print('-'*50)\n",
        "        #print(node.i, node.j)\n",
        "        CLOSED.AddNode(node)\n",
        "        if node == node_goal:\n",
        "            return True, node, CLOSED, OPEN\n",
        "\n",
        "        for i, j in gridMap.GetNeighbors(node.i, node.j):\n",
        "            #print('neighbor', i, j)\n",
        "            if node.parent is not None and gridMap.Traversable_(node.parent.i, node.parent.j, i, j):\n",
        "                g_2 = node.parent.g + EuclidDistance(node.parent.i, node.parent.j, i, j)\n",
        "            else:\n",
        "                g_2 = 10e8\n",
        "            g = node.g + EuclidDistance(node.i, node.j, i, j)\n",
        "            if g_2 < g:\n",
        "                node_new = Node(i, j, g=g_2, h=heuristicFunction(i, j, iGoal, jGoal), parent=node.parent)\n",
        "                #print(i, j, g_2, heuristicFunction(i, j, iGoal, jGoal), node.parent)\n",
        "                      \n",
        "            else:\n",
        "                node_new = Node(i, j, g=g, h=heuristicFunction(i, j, iGoal, jGoal), parent=node) \n",
        "                #print(i, j, g, heuristicFunction(i, j, iGoal, jGoal), node)\n",
        "            #print(g, g_2)\n",
        "            if not CLOSED.WasExpanded(node_new):\n",
        "                OPEN.AddNode(node_new)\n",
        "\n",
        "    return (False, None, CLOSED, OPEN)"
      ],
      "execution_count": 11,
      "outputs": []
    },
    {
      "cell_type": "code",
      "metadata": {
        "id": "-v0N1mRb18n2"
      },
      "source": [
        "def AStar(gridMap : Map, iStart : int, jStart : int, iGoal : int, jGoal : int, heuristicFunction = EuclidDistance):\n",
        "    #!!!TODO!!!\n",
        "    #Implement A* algorithm\n",
        "    OPEN = YourOpen()\n",
        "    CLOSED = YourClosed()\n",
        "    \n",
        "    \n",
        "    node_start = Node(iStart, jStart, g=0, h=heuristicFunction(iStart, jStart, iGoal, jGoal))\n",
        "    node_goal = Node(iGoal, jGoal)\n",
        "    \n",
        "    OPEN.AddNode(node_start)\n",
        "    \n",
        "    k = 1\n",
        "    while not OPEN.isEmpty():\n",
        "        node = OPEN.GetBestNode()\n",
        "        CLOSED.AddNode(node)\n",
        "        if node == node_goal:\n",
        "            return True, node, CLOSED, OPEN\n",
        "\n",
        "        for i, j in gridMap.GetNeighbors(node.i, node.j):\n",
        "            #print('neighbor', i, j)\n",
        "            g = node.g + EuclidDistance(node.i, node.j, i, j)\n",
        "            node_new = Node(i, j, g=g, h=heuristicFunction(i, j, iGoal, jGoal), parent=node, k = k) \n",
        "            k += 1\n",
        "            if not CLOSED.WasExpanded(node_new):\n",
        "                OPEN.AddNode(node_new)\n",
        "\n",
        "    return (False, None, CLOSED, OPEN)"
      ],
      "execution_count": 20,
      "outputs": []
    },
    {
      "cell_type": "code",
      "metadata": {
        "id": "mOSBqOyDbX9J"
      },
      "source": [
        "def MakePath(goal):\n",
        "    length = goal.g\n",
        "    current = goal\n",
        "    path = []\n",
        "    while current.parent:\n",
        "        path.append(current)\n",
        "        current = current.parent\n",
        "    path.append(current)\n",
        "    return path[::-1], length"
      ],
      "execution_count": 12,
      "outputs": []
    },
    {
      "cell_type": "code",
      "metadata": {
        "id": "caSMsiESbX9K"
      },
      "source": [
        "def SimpleTest(SearchFunction, height, width, mapstr, iStart, jStart, iGoal, jGoal, pathLen, *args):\n",
        "    taskMap = Map()\n",
        "    taskMap.ReadFromString(mapstr, width, height)\n",
        "    start = Node(iStart, jStart)\n",
        "    goal = Node(iGoal, jGoal)\n",
        "\n",
        "    try:\n",
        "        result = SearchFunction(taskMap, start.i, start.j, goal.i, goal.j, *args)\n",
        "        nodesExpanded = result[2]\n",
        "        nodesOpened = result[3]\n",
        "        if result[0]:\n",
        "            path = MakePath(result[1])\n",
        "            correct = abs(path[1] - pathLen) < EPS\n",
        "            print(\"Path found! Length: \" + str(path[1]) + \". Nodes created: \" + str(len(nodesOpened) + len(nodesExpanded)) + \". Number of steps: \" + str(len(nodesExpanded)) + \". Correct: \" + str(correct))\n",
        "            Draw(taskMap, start, goal, path[0], nodesExpanded, nodesOpened)\n",
        "\n",
        "        else:\n",
        "            print(\"Path not found!\")\n",
        "            Draw(taskMap, start, goal, None, nodesExpanded, nodesOpened)\n",
        "            \n",
        "    except Exception as e:\n",
        "        print(\"Execution error\")\n",
        "        print(e)"
      ],
      "execution_count": 13,
      "outputs": []
    },
    {
      "cell_type": "code",
      "metadata": {
        "id": "wXwA07eabX9L"
      },
      "source": [
        "height = 15\n",
        "width = 30\n",
        "mapstr = '''\n",
        ". . . . . . . . . . . . . . . . . . . . . # # . . . . . . .  \n",
        ". . . . . . . . . . . . . . . . . . . . . # # . . . . . . . \n",
        ". . . . . . . . . . . . . . . . . . . . . # # . . . . . . . \n",
        ". . . # # . . . . . . . . . . . . . . . . # # . . . . . . . \n",
        ". . . # # . . . . . . . . # # . . . . . . # # . . . . . . . \n",
        ". . . # # . . . . . . . . # # . . . . . . # # # # # . . . . \n",
        ". . . # # . . . . . . . . # # . . . . . . # # # # # . . . . \n",
        ". . . # # . . . . . . . . # # . . . . . . . . . . . . . . . \n",
        ". . . # # . . . . . . . . # # . . . . . . . . . . . . . . . \n",
        ". . . # # . . . . . . . . # # . . . . . . . . . . . . . . . \n",
        ". . . # # . . . . . . . . # # . . . . . . . . . . . . . . . \n",
        ". . . # # . . . . . . . . # # . . . . . . . . . . . . . . . \n",
        ". . . . . . . . . . . . . # # . . . . . . . . . . . . . . . \n",
        ". . . . . . . . . . . . . # # . . . . . . . . . . . . . . .\n",
        ". . . . . . . . . . . . . # # . . . . . . . . . . . . . . .\n",
        "'''\n",
        "iStart = 1\n",
        "jStart = 1\n",
        "iGoal = 13\n",
        "jGoal = 28\n",
        "pathLen = 31.9705627"
      ],
      "execution_count": 14,
      "outputs": []
    },
    {
      "cell_type": "code",
      "metadata": {
        "colab": {
          "base_uri": "https://localhost:8080/",
          "height": 454
        },
        "id": "F9RBZck8bX9M",
        "outputId": "8928f127-1059-401c-a755-0eefcda93e85"
      },
      "source": [
        "%time SimpleTest(ThetaStar, height, width, mapstr, iStart, jStart, iGoal, jGoal, pathLen, EuclidDistance)"
      ],
      "execution_count": 15,
      "outputs": [
        {
          "output_type": "stream",
          "text": [
            "Path found! Length: 30.543355090587678. Nodes created: 154. Number of steps: 76. Correct: False\n",
            "CPU times: user 28.8 ms, sys: 829 µs, total: 29.6 ms\n",
            "Wall time: 34.3 ms\n"
          ],
          "name": "stdout"
        },
        {
          "output_type": "display_data",
          "data": {
            "image/png": "[encoded data removed]",
            "text/plain": [
              "<Figure size 900x600 with 1 Axes>"
            ]
          },
          "metadata": {
            "tags": [],
            "needs_background": "light"
          }
        }
      ]
    },
    {
      "cell_type": "markdown",
      "metadata": {
        "id": "IHLHaogObX9O"
      },
      "source": [
        "### Proccessing the Input Data and Storing the Results \n",
        "Recall that in this lab you have to use [[MovingAI](https://movingai.com/benchmarks/grids.html)] benchmark as a source dataset for you experiments. So you need to implement functions that will read the data from the dataset, running tests (with validating that your answer is a correct one) and store the obtained results for further analysis.\n",
        "\n",
        "\n",
        "You can use the provided function definitions to organize your work with the benchmark."
      ]
    },
    {
      "cell_type": "code",
      "metadata": {
        "id": "-tbBojuWbX9P"
      },
      "source": [
        "def ReadMapFromMovingAIFile(path):\n",
        "    #!!!TODO!!!\n",
        "    mapping = {'.': '.', 'G': '.', '@': '#', 'O': '#', 'T': '#', '\\n': '\\n'}\n",
        "    with open(path, 'r') as f:\n",
        "        f.readline()\n",
        "        H = int(f.readline().split()[1])\n",
        "        W = int(f.readline().split()[1])\n",
        "        f.readline()\n",
        "        map_str = ''.join(f.readlines())\n",
        "    map_str = ''.join(map(lambda x: mapping[x], map_str))\n",
        "    m = Map()\n",
        "    m.ReadFromString(map_str, W, H)\n",
        "    return m"
      ],
      "execution_count": 16,
      "outputs": []
    },
    {
      "cell_type": "code",
      "metadata": {
        "id": "frK721jkbX9Q"
      },
      "source": [
        "def ReadTasksFromMovingAIFile(path):\n",
        "    #!!!TODO!!!\n",
        "    tasks = []\n",
        "    with open(path, 'r') as f:\n",
        "        f.readline()\n",
        "        for line in f:\n",
        "            bucket, map_file, W, H, iStart, jStart, iGoal, jGoal, pathLen = line.split()\n",
        "            tasks.append((map_file, int(iStart), int(jStart), int(iGoal), int(jGoal), float(pathLen)))\n",
        "    return tasks "
      ],
      "execution_count": 17,
      "outputs": []
    },
    {
      "cell_type": "code",
      "metadata": {
        "id": "emTsmg8UbX9R"
      },
      "source": [
        "from tqdm import tqdm\n",
        "def MassiveTest(SearchFunction, tasks, map_file_prefix, *args):\n",
        "    allTasksResults = {'found': [], 'length': [], 'true_length': [], 'is_optimal': [], \n",
        "                       'nodes_created': [], 'number_of_steps': []}\n",
        "    #!!!TODO!!!\n",
        "    for map_file, iStart, jStart, iGoal, jGoal, pathLen in tqdm(tasks):\n",
        "        allTasksResults['true_length'].append(pathLen)\n",
        "        m = ReadMapFromMovingAIFile(map_file_prefix + map_file)\n",
        "        result = SearchFunction(m, jStart, iStart, jGoal, iGoal, *args)\n",
        "        nodesExpanded = result[2]\n",
        "        nodesOpened = result[3]\n",
        "        nodes_created = len(nodesOpened) + len(nodesExpanded)\n",
        "        number_of_steps = len(nodesExpanded)\n",
        "        allTasksResults['nodes_created'].append(nodes_created)\n",
        "        allTasksResults['number_of_steps'].append(number_of_steps)\n",
        "        if result[0]:\n",
        "            path = MakePath(result[1])\n",
        "            correct = abs(path[1] - pathLen) < EPS\n",
        "            allTasksResults['found'].append(True)\n",
        "            allTasksResults['length'].append(path[1])\n",
        "            allTasksResults['is_optimal'].append(correct)\n",
        "        else:\n",
        "            allTasksResults['found'].append(False)\n",
        "            allTasksResults['length'].append(None)\n",
        "            allTasksResults['is_optimal'].append(None)\n",
        "            \n",
        "    return allTasksResults"
      ],
      "execution_count": 18,
      "outputs": []
    },
    {
      "cell_type": "code",
      "metadata": {
        "id": "fcSiBSLSqm0z"
      },
      "source": [
        "import pickle\n",
        "\n",
        "with open('all_tasks.pickle', 'rb') as f:\n",
        "    all_tasks = pickle.load(f)"
      ],
      "execution_count": 21,
      "outputs": []
    },
    {
      "cell_type": "code",
      "metadata": {
        "colab": {
          "base_uri": "https://localhost:8080/"
        },
        "id": "S8HxJBV7bX9S",
        "outputId": "955cc136-8cfa-4597-f1d0-d66fe4214f1a"
      },
      "source": [
        "%%time\n",
        "# TODO Run tests using Euclidian heuristic\n",
        "#arena_tasks = ReadTasksFromMovingAIFile('./arena.map.scen')\n",
        "#den001d_tasks = ReadTasksFromMovingAIFile('./den001d.map.scen')\n",
        "\n",
        "#all_tasks = arena_tasks + den001d_tasks\n",
        "\n",
        "theta_results = MassiveTest(ThetaStar, all_tasks, 'dao-map/', EuclidDistance)"
      ],
      "execution_count": 25,
      "outputs": [
        {
          "output_type": "stream",
          "text": [
            "\n",
            "  0%|          | 0/200 [00:00<?, ?it/s]\u001b[A\n",
            "  3%|▎         | 6/200 [00:00<00:03, 57.49it/s]\u001b[A\n",
            "  9%|▉         | 18/200 [00:00<00:02, 65.80it/s]\u001b[A\n",
            " 13%|█▎        | 26/200 [00:00<00:02, 67.12it/s]\u001b[A\n",
            " 18%|█▊        | 35/200 [00:00<00:02, 71.39it/s]\u001b[A\n",
            " 24%|██▍       | 49/200 [00:00<00:01, 83.55it/s]\u001b[A\n",
            " 32%|███▏      | 64/200 [00:00<00:01, 95.26it/s]\u001b[A\n",
            " 38%|███▊      | 75/200 [00:00<00:01, 92.02it/s]\u001b[A\n",
            " 43%|████▎     | 86/200 [00:00<00:01, 80.75it/s]\u001b[A\n",
            " 50%|█████     | 100/200 [00:01<00:01, 90.97it/s]\u001b[A\n",
            " 55%|█████▌    | 110/200 [00:03<00:07, 11.80it/s]\u001b[A\n",
            " 59%|█████▉    | 118/200 [00:06<00:12,  6.48it/s]\u001b[A\n",
            " 62%|██████▏   | 124/200 [00:06<00:10,  7.30it/s]\u001b[A\n",
            " 64%|██████▍   | 128/200 [00:08<00:14,  5.04it/s]\u001b[A\n",
            " 66%|██████▌   | 131/200 [00:08<00:13,  5.15it/s]\u001b[A\n",
            " 67%|██████▋   | 134/200 [00:09<00:15,  4.18it/s]\u001b[A\n",
            " 68%|██████▊   | 136/200 [00:10<00:18,  3.48it/s]\u001b[A\n",
            " 69%|██████▉   | 138/200 [00:12<00:29,  2.09it/s]\u001b[A\n",
            " 70%|███████   | 140/200 [00:12<00:22,  2.61it/s]\u001b[A\n",
            " 71%|███████   | 142/200 [00:13<00:21,  2.64it/s]\u001b[A\n",
            " 72%|███████▏  | 143/200 [00:14<00:26,  2.12it/s]\u001b[A\n",
            " 73%|███████▎  | 146/200 [00:15<00:26,  2.02it/s]\u001b[A\n",
            " 74%|███████▎  | 147/200 [00:16<00:22,  2.35it/s]\u001b[A\n",
            " 74%|███████▍  | 149/200 [00:16<00:16,  3.18it/s]\u001b[A\n",
            " 76%|███████▌  | 152/200 [00:16<00:13,  3.49it/s]\u001b[A\n",
            " 77%|███████▋  | 154/200 [00:16<00:09,  4.63it/s]\u001b[A\n",
            " 78%|███████▊  | 156/200 [00:17<00:07,  5.53it/s]\u001b[A\n",
            " 79%|███████▉  | 158/200 [00:17<00:07,  5.45it/s]\u001b[A\n",
            " 80%|███████▉  | 159/200 [00:17<00:06,  6.06it/s]\u001b[A\n",
            " 81%|████████  | 162/200 [00:18<00:06,  5.80it/s]\u001b[A\n",
            " 82%|████████▎ | 165/200 [00:18<00:04,  7.65it/s]\u001b[A\n",
            " 84%|████████▎ | 167/200 [00:18<00:06,  5.17it/s]\u001b[A\n",
            " 84%|████████▍ | 169/200 [00:19<00:05,  6.14it/s]\u001b[A\n",
            " 86%|████████▌ | 171/200 [00:19<00:05,  5.71it/s]\u001b[A\n",
            " 86%|████████▋ | 173/200 [00:20<00:08,  3.09it/s]\u001b[A\n",
            " 87%|████████▋ | 174/200 [00:21<00:09,  2.66it/s]\u001b[A\n",
            " 88%|████████▊ | 175/200 [00:21<00:10,  2.41it/s]\u001b[A\n",
            " 88%|████████▊ | 176/200 [00:22<00:14,  1.62it/s]\u001b[A\n",
            " 88%|████████▊ | 177/200 [00:23<00:14,  1.63it/s]\u001b[A\n",
            " 89%|████████▉ | 178/200 [00:23<00:10,  2.07it/s]\u001b[A\n",
            " 90%|████████▉ | 179/200 [00:24<00:11,  1.89it/s]\u001b[A\n",
            " 90%|█████████ | 180/200 [00:24<00:10,  1.83it/s]\u001b[A\n",
            " 90%|█████████ | 181/200 [00:25<00:08,  2.23it/s]\u001b[A\n",
            " 91%|█████████ | 182/200 [00:25<00:09,  1.90it/s]\u001b[A\n",
            " 92%|█████████▏| 184/200 [00:26<00:06,  2.55it/s]\u001b[A\n",
            " 92%|█████████▎| 185/200 [00:26<00:05,  2.96it/s]\u001b[A\n",
            " 93%|█████████▎| 186/200 [00:26<00:03,  3.61it/s]\u001b[A\n",
            " 94%|█████████▍| 189/200 [00:26<00:02,  4.71it/s]\u001b[A\n",
            " 96%|█████████▌| 192/200 [00:26<00:01,  5.90it/s]\u001b[A\n",
            " 97%|█████████▋| 194/200 [00:27<00:01,  5.27it/s]\u001b[A\n",
            " 98%|█████████▊| 196/200 [00:27<00:00,  6.20it/s]\u001b[A\n",
            " 98%|█████████▊| 197/200 [00:28<00:01,  2.92it/s]\u001b[A\n",
            "100%|██████████| 200/200 [00:28<00:00,  6.92it/s]"
          ],
          "name": "stderr"
        },
        {
          "output_type": "stream",
          "text": [
            "CPU times: user 28.3 s, sys: 132 ms, total: 28.5 s\n",
            "Wall time: 28.9 s\n"
          ],
          "name": "stdout"
        },
        {
          "output_type": "stream",
          "text": [
            "\n"
          ],
          "name": "stderr"
        }
      ]
    },
    {
      "cell_type": "code",
      "metadata": {
        "colab": {
          "base_uri": "https://localhost:8080/"
        },
        "id": "erh5fKnH28p1",
        "outputId": "0e906ce0-ec3e-45df-933d-05f3e75030d3"
      },
      "source": [
        "%%time\n",
        "a_star_results = MassiveTest(AStar, all_tasks, 'dao-map/', EuclidDistance)"
      ],
      "execution_count": 26,
      "outputs": [
        {
          "output_type": "stream",
          "text": [
            "\n",
            "  0%|          | 0/200 [00:00<?, ?it/s]\u001b[A\n",
            "  5%|▌         | 10/200 [00:00<00:02, 89.09it/s]\u001b[A\n",
            " 10%|█         | 21/200 [00:00<00:01, 91.40it/s]\u001b[A\n",
            " 14%|█▎        | 27/200 [00:00<00:02, 78.70it/s]\u001b[A\n",
            " 20%|█▉        | 39/200 [00:00<00:01, 86.88it/s]\u001b[A\n",
            " 27%|██▋       | 54/200 [00:00<00:01, 97.40it/s]\u001b[A\n",
            " 35%|███▌      | 70/200 [00:00<00:01, 109.74it/s]\u001b[A\n",
            " 40%|████      | 81/200 [00:00<00:01, 86.77it/s] \u001b[A\n",
            " 47%|████▋     | 94/200 [00:00<00:01, 94.66it/s]\u001b[A\n",
            " 52%|█████▎    | 105/200 [00:01<00:01, 58.52it/s]\u001b[A\n",
            " 57%|█████▋    | 114/200 [00:01<00:02, 29.06it/s]\u001b[A\n",
            " 60%|██████    | 121/200 [00:02<00:03, 21.92it/s]\u001b[A\n",
            " 63%|██████▎   | 126/200 [00:02<00:04, 17.10it/s]\u001b[A\n",
            " 65%|██████▌   | 130/200 [00:03<00:04, 16.81it/s]\u001b[A\n",
            " 67%|██████▋   | 134/200 [00:03<00:05, 12.54it/s]\u001b[A\n",
            " 68%|██████▊   | 137/200 [00:04<00:06, 10.46it/s]\u001b[A\n",
            " 70%|██████▉   | 139/200 [00:04<00:05, 11.31it/s]\u001b[A\n",
            " 71%|███████   | 142/200 [00:04<00:05, 10.96it/s]\u001b[A\n",
            " 72%|███████▏  | 144/200 [00:04<00:04, 11.71it/s]\u001b[A\n",
            " 73%|███████▎  | 146/200 [00:04<00:04, 11.75it/s]\u001b[A\n",
            " 74%|███████▍  | 148/200 [00:04<00:04, 12.79it/s]\u001b[A\n",
            " 75%|███████▌  | 150/200 [00:05<00:03, 13.94it/s]\u001b[A\n",
            " 76%|███████▌  | 152/200 [00:05<00:03, 12.12it/s]\u001b[A\n",
            " 78%|███████▊  | 156/200 [00:05<00:02, 14.85it/s]\u001b[A\n",
            " 79%|███████▉  | 158/200 [00:05<00:02, 14.72it/s]\u001b[A\n",
            " 80%|████████  | 161/200 [00:05<00:02, 17.01it/s]\u001b[A\n",
            " 82%|████████▏ | 164/200 [00:05<00:02, 17.14it/s]\u001b[A\n",
            " 83%|████████▎ | 166/200 [00:06<00:02, 14.84it/s]\u001b[A\n",
            " 85%|████████▌ | 170/200 [00:06<00:01, 16.30it/s]\u001b[A\n",
            " 86%|████████▌ | 172/200 [00:06<00:01, 16.47it/s]\u001b[A\n",
            " 87%|████████▋ | 174/200 [00:06<00:02, 10.49it/s]\u001b[A\n",
            " 88%|████████▊ | 176/200 [00:07<00:02,  8.23it/s]\u001b[A\n",
            " 89%|████████▉ | 178/200 [00:07<00:02,  7.71it/s]\u001b[A\n",
            " 90%|█████████ | 180/200 [00:07<00:02,  7.22it/s]\u001b[A\n",
            " 90%|█████████ | 181/200 [00:07<00:02,  7.76it/s]\u001b[A\n",
            " 91%|█████████ | 182/200 [00:07<00:02,  7.29it/s]\u001b[A\n",
            " 92%|█████████▏| 184/200 [00:08<00:01,  8.98it/s]\u001b[A\n",
            " 93%|█████████▎| 186/200 [00:08<00:01, 10.24it/s]\u001b[A\n",
            " 95%|█████████▌| 190/200 [00:08<00:00, 13.13it/s]\u001b[A\n",
            " 96%|█████████▋| 193/200 [00:08<00:00, 12.90it/s]\u001b[A\n",
            " 98%|█████████▊| 197/200 [00:08<00:00, 13.90it/s]\u001b[A\n",
            "100%|██████████| 200/200 [00:08<00:00, 22.44it/s]"
          ],
          "name": "stderr"
        },
        {
          "output_type": "stream",
          "text": [
            "CPU times: user 8.52 s, sys: 72.9 ms, total: 8.6 s\n",
            "Wall time: 8.92 s\n"
          ],
          "name": "stdout"
        },
        {
          "output_type": "stream",
          "text": [
            "\n"
          ],
          "name": "stderr"
        }
      ]
    },
    {
      "cell_type": "code",
      "metadata": {
        "id": "ybNPrw_N3XAn"
      },
      "source": [
        "with open('theta_results.pickle', 'wb') as f:\n",
        "    pickle.dump(theta_results, f)\n",
        "\n",
        "with open('a_star_results.pickle', 'wb') as f:\n",
        "    pickle.dump(a_star_results, f)"
      ],
      "execution_count": 27,
      "outputs": []
    },
    {
      "cell_type": "code",
      "metadata": {
        "colab": {
          "base_uri": "https://localhost:8080/"
        },
        "id": "BbFNmilGc1kU",
        "outputId": "e9c68ddd-9687-45f2-a51b-be67ed5a08c3"
      },
      "source": [
        "from google.colab import drive\n",
        "drive.mount('/content/drive')"
      ],
      "execution_count": null,
      "outputs": [
        {
          "output_type": "stream",
          "text": [
            "Mounted at /content/drive\n"
          ],
          "name": "stdout"
        }
      ]
    },
    {
      "cell_type": "code",
      "metadata": {
        "colab": {
          "base_uri": "https://localhost:8080/"
        },
        "id": "E7v1j-8BdbgQ",
        "outputId": "2e13f2ff-dfe4-4a0b-e794-d33061e5a79d"
      },
      "source": [
        "!ls \"/content/drive/My Drive/Data\""
      ],
      "execution_count": null,
      "outputs": [
        {
          "output_type": "stream",
          "text": [
            "data.zip\n"
          ],
          "name": "stdout"
        }
      ]
    },
    {
      "cell_type": "code",
      "metadata": {
        "colab": {
          "base_uri": "https://localhost:8080/"
        },
        "id": "7gTVNq8ret03",
        "outputId": "b74448a4-97ca-4a18-87b6-d7fe436c20ed"
      },
      "source": [
        "!unzip drive/MyDrive/Data/data.zip"
      ],
      "execution_count": null,
      "outputs": [
        {
          "output_type": "stream",
          "text": [
            "Archive:  drive/MyDrive/Data/data.zip\n",
            "   creating: data/dao_map/\n",
            "  inflating: data/dao_map/arena.map  \n",
            "  inflating: data/dao_map/arena2.map  \n",
            "  inflating: data/dao_map/brc000d.map  \n",
            "  inflating: data/dao_map/brc100d.map  \n",
            "  inflating: data/dao_map/brc101d.map  \n",
            "  inflating: data/dao_map/brc200d.map  \n",
            "  inflating: data/dao_map/brc201d.map  \n",
            "  inflating: data/dao_map/brc202d.map  \n",
            "  inflating: data/dao_map/brc203d.map  \n",
            "  inflating: data/dao_map/brc204d.map  \n",
            "  inflating: data/dao_map/brc300d.map  \n",
            "  inflating: data/dao_map/brc501d.map  \n",
            "  inflating: data/dao_map/brc502d.map  \n",
            "  inflating: data/dao_map/brc503d.map  \n",
            "  inflating: data/dao_map/brc504d.map  \n",
            "  inflating: data/dao_map/brc505d.map  \n",
            "  inflating: data/dao_map/brc997d.map  \n",
            "  inflating: data/dao_map/brc999d.map  \n",
            "  inflating: data/dao_map/combat.map  \n",
            "  inflating: data/dao_map/combat2.map  \n",
            "  inflating: data/dao_map/den000d.map  \n",
            "  inflating: data/dao_map/den001d.map  \n",
            "  inflating: data/dao_map/den005d.map  \n",
            "  inflating: data/dao_map/den009d.map  \n",
            "  inflating: data/dao_map/den011d.map  \n",
            "  inflating: data/dao_map/den012d.map  \n",
            "  inflating: data/dao_map/den020d.map  \n",
            "  inflating: data/dao_map/den101d.map  \n",
            "  inflating: data/dao_map/den200d.map  \n",
            "  inflating: data/dao_map/den200n.map  \n",
            "  inflating: data/dao_map/den201d.map  \n",
            "  inflating: data/dao_map/den202d.map  \n",
            "  inflating: data/dao_map/den203d.map  \n",
            "  inflating: data/dao_map/den204d.map  \n",
            "  inflating: data/dao_map/den206d.map  \n",
            "  inflating: data/dao_map/den207d.map  \n",
            "  inflating: data/dao_map/den308d.map  \n",
            "  inflating: data/dao_map/den312d.map  \n",
            "  inflating: data/dao_map/den400d.map  \n",
            "  inflating: data/dao_map/den401d.map  \n",
            "  inflating: data/dao_map/den403d.map  \n",
            "  inflating: data/dao_map/den404d.map  \n",
            "  inflating: data/dao_map/den405d.map  \n",
            "  inflating: data/dao_map/den407d.map  \n",
            "  inflating: data/dao_map/den408d.map  \n",
            "  inflating: data/dao_map/den500d.map  \n",
            "  inflating: data/dao_map/den501d.map  \n",
            "  inflating: data/dao_map/den502d.map  \n",
            "  inflating: data/dao_map/den504d.map  \n",
            "  inflating: data/dao_map/den505d.map  \n",
            "  inflating: data/dao_map/den510d.map  \n",
            "  inflating: data/dao_map/den520d.map  \n",
            "  inflating: data/dao_map/den600d.map  \n",
            "  inflating: data/dao_map/den601d.map  \n",
            "  inflating: data/dao_map/den602d.map  \n",
            "  inflating: data/dao_map/den900d.map  \n",
            "  inflating: data/dao_map/den901d.map  \n",
            "  inflating: data/dao_map/den998d.map  \n",
            "  inflating: data/dao_map/hrt000d.map  \n",
            "  inflating: data/dao_map/hrt001d.map  \n",
            "  inflating: data/dao_map/hrt002d.map  \n",
            "  inflating: data/dao_map/hrt201d.map  \n",
            "  inflating: data/dao_map/hrt201n.map  \n",
            "  inflating: data/dao_map/isound1.map  \n",
            "  inflating: data/dao_map/lak100c.map  \n",
            "  inflating: data/dao_map/lak100d.map  \n",
            "  inflating: data/dao_map/lak100n.map  \n",
            "  inflating: data/dao_map/lak101d.map  \n",
            "  inflating: data/dao_map/lak102d.map  \n",
            "  inflating: data/dao_map/lak103d.map  \n",
            "  inflating: data/dao_map/lak104d.map  \n",
            "  inflating: data/dao_map/lak105d.map  \n",
            "  inflating: data/dao_map/lak106d.map  \n",
            "  inflating: data/dao_map/lak107d.map  \n",
            "  inflating: data/dao_map/lak108d.map  \n",
            "  inflating: data/dao_map/lak109d.map  \n",
            "  inflating: data/dao_map/lak110d.map  \n",
            "  inflating: data/dao_map/lak200d.map  \n",
            "  inflating: data/dao_map/lak201d.map  \n",
            "  inflating: data/dao_map/lak202d.map  \n",
            "  inflating: data/dao_map/lak203d.map  \n",
            "  inflating: data/dao_map/lak250d.map  \n",
            "  inflating: data/dao_map/lak300d.map  \n",
            "  inflating: data/dao_map/lak302d.map  \n",
            "  inflating: data/dao_map/lak303d.map  \n",
            "  inflating: data/dao_map/lak304d.map  \n",
            "  inflating: data/dao_map/lak307d.map  \n",
            "  inflating: data/dao_map/lak308d.map  \n",
            "  inflating: data/dao_map/lak400d.map  \n",
            "  inflating: data/dao_map/lak401d.map  \n",
            "  inflating: data/dao_map/lak403d.map  \n",
            "  inflating: data/dao_map/lak404d.map  \n",
            "  inflating: data/dao_map/lak405d.map  \n",
            "  inflating: data/dao_map/lak503d.map  \n",
            "  inflating: data/dao_map/lak504d.map  \n",
            "  inflating: data/dao_map/lak505d.map  \n",
            "  inflating: data/dao_map/lak506d.map  \n",
            "  inflating: data/dao_map/lak507d.map  \n",
            "  inflating: data/dao_map/lak510d.map  \n",
            "  inflating: data/dao_map/lak511d.map  \n",
            "  inflating: data/dao_map/lak512d.map  \n",
            "  inflating: data/dao_map/lak513d.map  \n",
            "  inflating: data/dao_map/lak514d.map  \n",
            "  inflating: data/dao_map/lak515d.map  \n",
            "  inflating: data/dao_map/lak519d.map  \n",
            "  inflating: data/dao_map/lak526d.map  \n",
            "  inflating: data/dao_map/lgt101d.map  \n",
            "  inflating: data/dao_map/lgt300d.map  \n",
            "  inflating: data/dao_map/lgt600d.map  \n",
            "  inflating: data/dao_map/lgt601d.map  \n",
            "  inflating: data/dao_map/lgt602d.map  \n",
            "  inflating: data/dao_map/lgt603d.map  \n",
            "  inflating: data/dao_map/lgt604d.map  \n",
            "  inflating: data/dao_map/lgt605d.map  \n",
            "  inflating: data/dao_map/orz000d.map  \n",
            "  inflating: data/dao_map/orz100d.map  \n",
            "  inflating: data/dao_map/orz101d.map  \n",
            "  inflating: data/dao_map/orz102d.map  \n",
            "  inflating: data/dao_map/orz103d.map  \n",
            "  inflating: data/dao_map/orz105d.map  \n",
            "  inflating: data/dao_map/orz106d.map  \n",
            "  inflating: data/dao_map/orz107d.map  \n",
            "  inflating: data/dao_map/orz200d.map  \n",
            "  inflating: data/dao_map/orz201d.map  \n",
            "  inflating: data/dao_map/orz203d.map  \n",
            "  inflating: data/dao_map/orz300d.map  \n",
            "  inflating: data/dao_map/orz301d.map  \n",
            "  inflating: data/dao_map/orz302d.map  \n",
            "  inflating: data/dao_map/orz303d.map  \n",
            "  inflating: data/dao_map/orz304d.map  \n",
            "  inflating: data/dao_map/orz500d.map  \n",
            "  inflating: data/dao_map/orz601d.map  \n",
            "  inflating: data/dao_map/orz700d.map  \n",
            "  inflating: data/dao_map/orz701d.map  \n",
            "  inflating: data/dao_map/orz702d.map  \n",
            "  inflating: data/dao_map/orz703d.map  \n",
            "  inflating: data/dao_map/orz704d.map  \n",
            "  inflating: data/dao_map/orz800d.map  \n",
            "  inflating: data/dao_map/orz900d.map  \n",
            "  inflating: data/dao_map/orz901d.map  \n",
            "  inflating: data/dao_map/orz999d.map  \n",
            "  inflating: data/dao_map/ost000a.map  \n",
            "  inflating: data/dao_map/ost000t.map  \n",
            "  inflating: data/dao_map/ost001d.map  \n",
            "  inflating: data/dao_map/ost002d.map  \n",
            "  inflating: data/dao_map/ost003d.map  \n",
            "  inflating: data/dao_map/ost004d.map  \n",
            "  inflating: data/dao_map/ost100d.map  \n",
            "  inflating: data/dao_map/ost101d.map  \n",
            "  inflating: data/dao_map/ost102d.map  \n",
            "  inflating: data/dao_map/oth000d.map  \n",
            "  inflating: data/dao_map/oth001d.map  \n",
            "  inflating: data/dao_map/oth999d.map  \n",
            "  inflating: data/dao_map/rmtst.map  \n",
            "  inflating: data/dao_map/rmtst01.map  \n",
            "  inflating: data/dao_map/rmtst03.map  \n",
            "   creating: data/dao_scen/\n",
            "  inflating: data/dao_scen/arena.map.scen  \n",
            "  inflating: data/dao_scen/arena2.map.scen  \n",
            "  inflating: data/dao_scen/brc000d.map.scen  \n",
            "  inflating: data/dao_scen/brc100d.map.scen  \n",
            "  inflating: data/dao_scen/brc101d.map.scen  \n",
            "  inflating: data/dao_scen/brc200d.map.scen  \n",
            "  inflating: data/dao_scen/brc201d.map.scen  \n",
            "  inflating: data/dao_scen/brc202d.map.scen  \n",
            "  inflating: data/dao_scen/brc203d.map.scen  \n",
            "  inflating: data/dao_scen/brc204d.map.scen  \n",
            "  inflating: data/dao_scen/brc300d.map.scen  \n",
            "  inflating: data/dao_scen/brc501d.map.scen  \n",
            "  inflating: data/dao_scen/brc502d.map.scen  \n",
            "  inflating: data/dao_scen/brc503d.map.scen  \n",
            "  inflating: data/dao_scen/brc504d.map.scen  \n",
            "  inflating: data/dao_scen/brc505d.map.scen  \n",
            "  inflating: data/dao_scen/brc997d.map.scen  \n",
            "  inflating: data/dao_scen/brc999d.map.scen  \n",
            "  inflating: data/dao_scen/combat.map.scen  \n",
            "  inflating: data/dao_scen/combat2.map.scen  \n",
            "  inflating: data/dao_scen/den000d.map.scen  \n",
            "  inflating: data/dao_scen/den001d.map.scen  \n",
            "  inflating: data/dao_scen/den005d.map.scen  \n",
            "  inflating: data/dao_scen/den009d.map.scen  \n",
            "  inflating: data/dao_scen/den011d.map.scen  \n",
            "  inflating: data/dao_scen/den012d.map.scen  \n",
            "  inflating: data/dao_scen/den020d.map.scen  \n",
            "  inflating: data/dao_scen/den101d.map.scen  \n",
            "  inflating: data/dao_scen/den200d.map.scen  \n",
            "  inflating: data/dao_scen/den200n.map.scen  \n",
            "  inflating: data/dao_scen/den201d.map.scen  \n",
            "  inflating: data/dao_scen/den202d.map.scen  \n",
            "  inflating: data/dao_scen/den203d.map.scen  \n",
            "  inflating: data/dao_scen/den204d.map.scen  \n",
            "  inflating: data/dao_scen/den206d.map.scen  \n",
            "  inflating: data/dao_scen/den207d.map.scen  \n",
            "  inflating: data/dao_scen/den308d.map.scen  \n",
            "  inflating: data/dao_scen/den312d.map.scen  \n",
            "  inflating: data/dao_scen/den400d.map.scen  \n",
            "  inflating: data/dao_scen/den401d.map.scen  \n",
            "  inflating: data/dao_scen/den403d.map.scen  \n",
            "  inflating: data/dao_scen/den404d.map.scen  \n",
            "  inflating: data/dao_scen/den405d.map.scen  \n",
            "  inflating: data/dao_scen/den407d.map.scen  \n",
            "  inflating: data/dao_scen/den408d.map.scen  \n",
            "  inflating: data/dao_scen/den500d.map.scen  \n",
            "  inflating: data/dao_scen/den501d.map.scen  \n",
            "  inflating: data/dao_scen/den502d.map.scen  \n",
            "  inflating: data/dao_scen/den504d.map.scen  \n",
            "  inflating: data/dao_scen/den505d.map.scen  \n",
            "  inflating: data/dao_scen/den510d.map.scen  \n",
            "  inflating: data/dao_scen/den520d.map.scen  \n",
            "  inflating: data/dao_scen/den600d.map.scen  \n",
            "  inflating: data/dao_scen/den601d.map.scen  \n",
            "  inflating: data/dao_scen/den602d.map.scen  \n",
            "  inflating: data/dao_scen/den900d.map.scen  \n",
            "  inflating: data/dao_scen/den901d.map.scen  \n",
            "  inflating: data/dao_scen/den998d.map.scen  \n",
            "  inflating: data/dao_scen/hrt000d.map.scen  \n",
            "  inflating: data/dao_scen/hrt001d.map.scen  \n",
            "  inflating: data/dao_scen/hrt002d.map.scen  \n",
            "  inflating: data/dao_scen/hrt201d.map.scen  \n",
            "  inflating: data/dao_scen/hrt201n.map.scen  \n",
            "  inflating: data/dao_scen/isound1.map.scen  \n",
            "  inflating: data/dao_scen/lak100c.map.scen  \n",
            "  inflating: data/dao_scen/lak100d.map.scen  \n",
            "  inflating: data/dao_scen/lak100n.map.scen  \n",
            "  inflating: data/dao_scen/lak101d.map.scen  \n",
            "  inflating: data/dao_scen/lak102d.map.scen  \n",
            "  inflating: data/dao_scen/lak103d.map.scen  \n",
            "  inflating: data/dao_scen/lak104d.map.scen  \n",
            "  inflating: data/dao_scen/lak105d.map.scen  \n",
            "  inflating: data/dao_scen/lak106d.map.scen  \n",
            "  inflating: data/dao_scen/lak107d.map.scen  \n",
            "  inflating: data/dao_scen/lak108d.map.scen  \n",
            "  inflating: data/dao_scen/lak109d.map.scen  \n",
            "  inflating: data/dao_scen/lak110d.map.scen  \n",
            "  inflating: data/dao_scen/lak200d.map.scen  \n",
            "  inflating: data/dao_scen/lak201d.map.scen  \n",
            "  inflating: data/dao_scen/lak202d.map.scen  \n",
            "  inflating: data/dao_scen/lak203d.map.scen  \n",
            "  inflating: data/dao_scen/lak250d.map.scen  \n",
            "  inflating: data/dao_scen/lak300d.map.scen  \n",
            "  inflating: data/dao_scen/lak302d.map.scen  \n",
            "  inflating: data/dao_scen/lak303d.map.scen  \n",
            "  inflating: data/dao_scen/lak304d.map.scen  \n",
            "  inflating: data/dao_scen/lak307d.map.scen  \n",
            "  inflating: data/dao_scen/lak308d.map.scen  \n",
            "  inflating: data/dao_scen/lak400d.map.scen  \n",
            "  inflating: data/dao_scen/lak401d.map.scen  \n",
            "  inflating: data/dao_scen/lak403d.map.scen  \n",
            "  inflating: data/dao_scen/lak404d.map.scen  \n",
            "  inflating: data/dao_scen/lak405d.map.scen  \n",
            "  inflating: data/dao_scen/lak503d.map.scen  \n",
            "  inflating: data/dao_scen/lak504d.map.scen  \n",
            "  inflating: data/dao_scen/lak505d.map.scen  \n",
            "  inflating: data/dao_scen/lak506d.map.scen  \n",
            "  inflating: data/dao_scen/lak507d.map.scen  \n",
            "  inflating: data/dao_scen/lak510d.map.scen  \n",
            "  inflating: data/dao_scen/lak511d.map.scen  \n",
            "  inflating: data/dao_scen/lak512d.map.scen  \n",
            "  inflating: data/dao_scen/lak513d.map.scen  \n",
            "  inflating: data/dao_scen/lak514d.map.scen  \n",
            "  inflating: data/dao_scen/lak515d.map.scen  \n",
            "  inflating: data/dao_scen/lak519d.map.scen  \n",
            "  inflating: data/dao_scen/lak526d.map.scen  \n",
            "  inflating: data/dao_scen/lgt101d.map.scen  \n",
            "  inflating: data/dao_scen/lgt300d.map.scen  \n",
            "  inflating: data/dao_scen/lgt600d.map.scen  \n",
            "  inflating: data/dao_scen/lgt601d.map.scen  \n",
            "  inflating: data/dao_scen/lgt602d.map.scen  \n",
            "  inflating: data/dao_scen/lgt603d.map.scen  \n",
            "  inflating: data/dao_scen/lgt604d.map.scen  \n",
            "  inflating: data/dao_scen/lgt605d.map.scen  \n",
            "  inflating: data/dao_scen/orz000d.map.scen  \n",
            "  inflating: data/dao_scen/orz100d.map.scen  \n",
            "  inflating: data/dao_scen/orz101d.map.scen  \n",
            "  inflating: data/dao_scen/orz102d.map.scen  \n",
            "  inflating: data/dao_scen/orz103d.map.scen  \n",
            "  inflating: data/dao_scen/orz105d.map.scen  \n",
            "  inflating: data/dao_scen/orz106d.map.scen  \n",
            "  inflating: data/dao_scen/orz107d.map.scen  \n",
            "  inflating: data/dao_scen/orz200d.map.scen  \n",
            "  inflating: data/dao_scen/orz201d.map.scen  \n",
            "  inflating: data/dao_scen/orz203d.map.scen  \n",
            "  inflating: data/dao_scen/orz300d.map.scen  \n",
            "  inflating: data/dao_scen/orz301d.map.scen  \n",
            "  inflating: data/dao_scen/orz302d.map.scen  \n",
            "  inflating: data/dao_scen/orz303d.map.scen  \n",
            "  inflating: data/dao_scen/orz304d.map.scen  \n",
            "  inflating: data/dao_scen/orz500d.map.scen  \n",
            "  inflating: data/dao_scen/orz601d.map.scen  \n",
            "  inflating: data/dao_scen/orz700d.map.scen  \n",
            "  inflating: data/dao_scen/orz701d.map.scen  \n",
            "  inflating: data/dao_scen/orz702d.map.scen  \n",
            "  inflating: data/dao_scen/orz703d.map.scen  \n",
            "  inflating: data/dao_scen/orz704d.map.scen  \n",
            "  inflating: data/dao_scen/orz800d.map.scen  \n",
            "  inflating: data/dao_scen/orz900d.map.scen  \n",
            "  inflating: data/dao_scen/orz901d.map.scen  \n",
            "  inflating: data/dao_scen/orz999d.map.scen  \n",
            "  inflating: data/dao_scen/ost000a.map.scen  \n",
            "  inflating: data/dao_scen/ost000t.map.scen  \n",
            "  inflating: data/dao_scen/ost001d.map.scen  \n",
            "  inflating: data/dao_scen/ost002d.map.scen  \n",
            "  inflating: data/dao_scen/ost003d.map.scen  \n",
            "  inflating: data/dao_scen/ost004d.map.scen  \n",
            "  inflating: data/dao_scen/ost100d.map.scen  \n",
            "  inflating: data/dao_scen/ost101d.map.scen  \n",
            "  inflating: data/dao_scen/ost102d.map.scen  \n",
            "  inflating: data/dao_scen/oth000d.map.scen  \n",
            "  inflating: data/dao_scen/oth001d.map.scen  \n",
            "  inflating: data/dao_scen/oth999d.map.scen  \n",
            "  inflating: data/dao_scen/rmtst.map.scen  \n",
            "  inflating: data/dao_scen/rmtst01.map.scen  \n",
            "  inflating: data/dao_scen/rmtst03.map.scen  \n"
          ],
          "name": "stdout"
        }
      ]
    },
    {
      "cell_type": "code",
      "metadata": {
        "colab": {
          "base_uri": "https://localhost:8080/"
        },
        "id": "zSY4Os7WbX9S",
        "outputId": "e1b7ac61-31a9-4a8b-fc35-a87de19b3be1"
      },
      "source": [
        "import os\n",
        "import random\n",
        "\n",
        "SCEN_PATH = '/content/data/dao_scen'\n",
        "MAP_PATH = '/content/data/dao_map/'\n",
        "\n",
        "scen_file_list = sorted(os.listdir(SCEN_PATH))\n",
        "\n",
        "random.seed(42)\n",
        "random.shuffle(scen_file_list)\n",
        "\n",
        "all_tasks = []\n",
        "for scen_file in scen_file_list[:3]:\n",
        "    tasks = ReadTasksFromMovingAIFile(os.path.join(SCEN_PATH, scen_file))\n",
        "    random.shuffle(tasks)\n",
        "    all_tasks.extend(tasks[:100])\n",
        "\n",
        "euclid_results = MassiveTest(ThetaStar, all_tasks, MAP_PATH, EuclidDistance)"
      ],
      "execution_count": null,
      "outputs": [
        {
          "output_type": "stream",
          "text": [
            "100%|██████████| 300/300 [03:49<00:00,  1.31it/s]\n"
          ],
          "name": "stderr"
        }
      ]
    },
    {
      "cell_type": "code",
      "metadata": {
        "id": "E-I_BWFYbX9T"
      },
      "source": [
        "# TODO\n",
        "def report(results):\n",
        "    found = np.array(results['found'])\n",
        "    is_optimal = np.array(results['is_optimal'])\n",
        "    length = np.array(results['length'])\n",
        "    true_length = np.array(results['true_length'])\n",
        "    nodes_created = np.array(results['nodes_created'])\n",
        "    number_of_steps = np.array(results['number_of_steps'])\n",
        "\n",
        "    n = 0\n",
        "    for x, y in zip(length, true_length):\n",
        "      if round(x, 8) - y > 0:\n",
        "        n += 1\n",
        "        #print(x, y)\n",
        "    print(n)\n",
        "    \n",
        "    print('Found path ratio: ', np.mean(found))\n",
        "    #print('Optimal path ratio: ', is_optimal[found].mean())\n",
        "    #print('Mean path error: ', np.abs(1 - (1e-7 + length[found]) / (1e-7 + true_length[found])).mean())\n",
        "    print('Mean of Length:', length.mean())\n",
        "    print('Mean of True Length:', true_length.mean())\n",
        "    print('Mean number of steps: ', number_of_steps.mean())\n",
        "    \n",
        "    plt.figure(figsize=[15, 5])\n",
        "    \n",
        "    plt.subplot(1, 2, 1)\n",
        "    plt.scatter(true_length, nodes_created)\n",
        "    plt.yscale('log')\n",
        "    plt.xlabel('Path length')\n",
        "    plt.ylabel('Number of created nodes, log scale')\n",
        "    plt.grid()\n",
        "    \n",
        "    plt.subplot(1, 2, 2)\n",
        "    plt.scatter(true_length, number_of_steps)\n",
        "    plt.yscale('log')\n",
        "    plt.xlabel('Path length')\n",
        "    plt.ylabel('Number of steps, log scale')\n",
        "    plt.grid()\n",
        "\n",
        "    #df = pd.DataFrame(data=np.column_stack((length,true_length)),columns=['length of our path','true_length of the path'])\n",
        "    #print(df)"
      ],
      "execution_count": 24,
      "outputs": []
    },
    {
      "cell_type": "code",
      "metadata": {
        "colab": {
          "base_uri": "https://localhost:8080/",
          "height": 419
        },
        "id": "3icur0XX4I6n",
        "outputId": "e99ca3f2-a1df-468b-8b20-ede071735762"
      },
      "source": [
        "report(euclid_results)"
      ],
      "execution_count": 25,
      "outputs": [
        {
          "output_type": "stream",
          "text": [
            "1\n",
            "Found path ratio:  1.0\n",
            "Mean of Length: 55.409001658078324\n",
            "Mean of True Length: 57.933106750099995\n",
            "Mean number of steps:  469.58\n"
          ],
          "name": "stdout"
        },
        {
          "output_type": "display_data",
          "data": {
            "image/png": "[encoded data removed]",
            "text/plain": [
              "<Figure size 1080x360 with 2 Axes>"
            ]
          },
          "metadata": {
            "tags": [],
            "needs_background": "light"
          }
        }
      ]
    },
    {
      "cell_type": "code",
      "metadata": {
        "id": "6bvXpqV_9ufc"
      },
      "source": [
        "with open('results_6.pickle', 'rb') as f:\n",
        "    results_6 = pickle.load(f)"
      ],
      "execution_count": 26,
      "outputs": []
    },
    {
      "cell_type": "code",
      "metadata": {
        "colab": {
          "base_uri": "https://localhost:8080/"
        },
        "id": "-jnnoGP_wRP9",
        "outputId": "b1c28be2-8318-4a69-9e85-017013fb0ddc"
      },
      "source": [
        "for i in range(200):\n",
        "    if euclid_results['length'][i] - results_6['length'][i] > 10e-5:\n",
        "        print(i, euclid_results['length'][i], results_6['length'][i])"
      ],
      "execution_count": 28,
      "outputs": [
        {
          "output_type": "stream",
          "text": [
            "3 46.64753305245605 46.231247368645384\n",
            "8 27.78803875660999 27.723543654364008\n",
            "14 15.615071557183004 15.449659909380486\n",
            "15 43.94077570625443 43.86332106999758\n",
            "20 40.77032961426901 40.67395458852605\n",
            "23 38.41421356237309 38.291438042582165\n",
            "30 28.242150068137285 27.83701901914063\n",
            "33 22.495762294674147 22.475997456837067\n",
            "38 29.160255680657446 28.63409077461869\n",
            "43 29.766957659018175 29.71460152426817\n",
            "48 28.3172790631008 28.30192415129037\n",
            "52 32.67443498296126 32.48885193835461\n",
            "61 37.35738367241754 37.35204752937991\n",
            "74 33.268733633656744 33.23691603614989\n",
            "80 47.48178755071626 47.46044610640056\n",
            "81 24.499892332319526 23.89292222699217\n",
            "85 43.89992160332232 43.72582395796939\n",
            "100 18.884888051888165 18.599091784770806\n",
            "101 30.199915246428258 29.815350150789396\n",
            "103 80.55567339756365 80.34857716430638\n",
            "104 156.41070818771112 156.09485470157853\n",
            "105 72.16613407129505 70.6156880559932\n",
            "109 98.55539372795066 98.34345018944613\n",
            "110 104.32014619693501 102.85600700529967\n",
            "111 69.59490254685393 69.48667543876232\n",
            "114 170.16610745915403 169.80689316704255\n",
            "115 110.51789208734357 110.22996612793\n",
            "120 73.89891019646642 73.49252573334002\n",
            "121 100.46367117642185 100.03590784470776\n",
            "124 108.42179082218156 108.30414250108194\n",
            "128 128.62066657708476 128.01105232510534\n",
            "130 66.86599617794495 66.03936325456294\n",
            "131 109.17210729647843 108.84146457183206\n",
            "132 71.10126688497333 70.34070768955681\n",
            "134 48.243116133902994 48.16836647902893\n",
            "135 84.94316998199773 84.55419509925066\n",
            "136 120.63457354307288 119.60368575231313\n",
            "139 88.08868948727 88.01734930909748\n",
            "142 140.7057468597984 140.52216419293205\n",
            "144 60.956605345754696 60.04643528322576\n",
            "155 91.42623010845305 91.37831405029017\n",
            "167 72.87648543723486 72.39462475460243\n",
            "169 132.6979714574539 132.47719728553784\n",
            "170 130.03466678434023 129.31375844236427\n",
            "171 27.898738271189472 27.560412768691176\n",
            "173 139.39571122325643 139.2260120128978\n",
            "174 90.04316756340327 89.28434229624672\n",
            "175 150.51483997804223 148.8699220869849\n",
            "177 117.48737765432926 117.01377870068488\n",
            "178 169.93839133519538 169.5373578115381\n",
            "179 134.1541440775042 134.0270705884402\n",
            "181 98.62603227224517 98.49686592413778\n",
            "182 25.073342088439983 25.059294513511258\n",
            "184 63.38940996999313 62.66802092665417\n",
            "185 127.45102949742714 127.063379086355\n",
            "187 34.10354328405845 34.09036245352479\n",
            "188 73.80392451767383 73.23653234434319\n",
            "191 58.69123318217822 58.341576558128\n",
            "195 70.9015140327734 69.70836386040426\n",
            "197 129.0837387961431 128.06406721710022\n",
            "198 58.10773581775098 58.03285397812695\n",
            "199 53.16237053353528 52.94693421668253\n"
          ],
          "name": "stdout"
        }
      ]
    },
    {
      "cell_type": "code",
      "metadata": {
        "colab": {
          "base_uri": "https://localhost:8080/"
        },
        "id": "jqRYkbA3w8g8",
        "outputId": "d31a981d-991f-4352-b27a-4834d41ab944"
      },
      "source": [
        "all_tasks[184]"
      ],
      "execution_count": 29,
      "outputs": [
        {
          "output_type": "execute_result",
          "data": {
            "text/plain": [
              "('den001d.map', 91, 23, 141, 25, 66.38477631)"
            ]
          },
          "metadata": {
            "tags": []
          },
          "execution_count": 29
        }
      ]
    },
    {
      "cell_type": "code",
      "metadata": {
        "id": "Zps1-ic4xDQy"
      },
      "source": [
        "height = 80\n",
        "width = 211\n",
        "\n",
        "mapstr = '''\n",
        "###################################################################################################################################################################################################################\n",
        "###################################################################################################################################################################################################################\n",
        "##############################################################################################################################.####################################################################################\n",
        "##############################################################################################################################.####################################################################################\n",
        "#################################################################################.............##..............################.#################..............##............#######################################\n",
        "###############################################################################................................................................................................####################################\n",
        "###############################################################################................................................................................................####################################\n",
        "###############################################################################................................................................................................####################################\n",
        "###############################################################################................................................................................................####################################\n",
        "###############################################################################................................................................................................####################################\n",
        "###############################################################################................................................................................................####################################\n",
        "###############################################################################................................................................................................####################################\n",
        "################################################################################.............................................................................................######################################\n",
        "################################################################################..............................................#..............................................######################################\n",
        "#################################################################################............####################............####............###################...........########################################\n",
        "###################################################################################........##########################....############....##########################........########################################\n",
        "####################################################################################.......##########################....############....##########################........########################################\n",
        "####################################################################################.......##########################....############....##########################........########################################\n",
        "###########....########################......#######################################.......##########.#############........########........########################........########################.###############\n",
        "###########....########################......######################..####.##########.......##########.###########............####............######################........###############.########.###############\n",
        "###########..................................#####################........##########.......##########.##...................................................########........##########........####.........#########\n",
        "##########...................................#####################........##########.......##########.##...................................................########........##########.....................#########\n",
        "##########...................................##################.......................................##......................................................#####........................................########\n",
        "##########...................................##################.......................................##......................................................##..........................................#########\n",
        "##########...................................####################.....................................##......................................................##................##........................#########\n",
        "##########...................................####################.....................................##......................................................##................##........................#########\n",
        "##########...................................####################.....................................##......................................##......##......##................##.........................########\n",
        "##########...................................####################.....................................##########################################......##########................##...........................######\n",
        "###########..................................####################.....................................########.......#####.......#####.......###......##########..........................................#########\n",
        "###########..................................####################.............................................................................##########................................###...............#########\n",
        "#########......####......####......####......###################..............................................................................##########...............................####...............#########\n",
        "##########.....####......####......####......####################.............................................................................####..####................................##................#########\n",
        "##########.....####......####......####......####################..................................................................................................................................######.#########\n",
        "########.......####......####......####.......#################....................................................................................................................................################\n",
        "######..........##..................##..........#############......................................................................................................................................################\n",
        "#####.............................................##########.......................................................................................................................................################\n",
        "###................................................#######............................................................................................................................................#############\n",
        "......................................................................................................................................................................................................#############\n",
        ".....................................................................................................................................................................................................##############\n",
        ".....................................................................................................................................................................................................##############\n",
        ".....................................................................................................................................................................................................##############\n",
        ".....................................................................................................................................................................................................##############\n",
        "......................................................................................................................................................................................................#############\n",
        "......................................................................................................................................................................................................#############\n",
        "####...............................................########........................................................................................................................................################\n",
        "######............................................###########......................................................................................................................................################\n",
        "########........##..................##..........###############...................................................................................................................................#################\n",
        "#########......####......####......####.......##################..................................................................................................................................#######...#######\n",
        "##########.....####......####......####......####################.......................................................................................................................#..........####...#########\n",
        "#########......####......####......####......####################.............................................................................##########...............................###................#########\n",
        "##########.....####......####......####......###################..............................................................................##########...............................####...............#########\n",
        "###########..................................##################...............................................................................##......##................................##................#########\n",
        "###########..................................####################.....................................##########################################......##########................##........................#########\n",
        "##########...................................####################.....................................##########################################......##########................##.........................########\n",
        "##########...................................####################.....................................##......................................................##................##........................#########\n",
        "##########...................................####################.....................................##......................................................##................##........................#########\n",
        "##########...................................####################.....................................##......................................................##..........................................#########\n",
        "##########...................................####################.....................................##......................................................##...........................................########\n",
        "##########...................................####################.........##########.......##########.##......................................................#####........##########........................######\n",
        "##########...................................#####################........##########.......##########.##...................................................########........##########.....................#########\n",
        "###########..................................#####################........##########.......##########.##.....####............####............####..........########........###############...####.........#########\n",
        "###########....########################......#######################################.......##########.#############........########........########################........########################.###############\n",
        "####################################################################################.......##########.#############........########........########################........########################.###############\n",
        "####################################################################################.......##########################....############....##########################........########################################\n",
        "###################################################################################........##########################....############....##########################........########################################\n",
        "##################################################################################..........#########################....############....########################............######################################\n",
        "##################################################################################..........###................#.............###.............##................#.............######################################\n",
        "################################################################################.............................................................................................######################################\n",
        "################################################################################.............................................................................................######################################\n",
        "###############################################################################................................................................................................####################################\n",
        "###############################################################################................................................................................................####################################\n",
        "###############################################################################................................................................................................####################################\n",
        "###############################################################################................................................................................................####################################\n",
        "###############################################################################................................................................................................####################################\n",
        "###############################################################################................................................................................................####################################\n",
        "###############################################################################................................................................................................####################################\n",
        "##################################################################################..........####.............##################################.............####............#######################################\n",
        "###################################################################################################################################################################################################################\n",
        "###################################################################################################################################################################################################################\n",
        "###################################################################################################################################################################################################################\n",
        "'''"
      ],
      "execution_count": 30,
      "outputs": []
    },
    {
      "cell_type": "code",
      "metadata": {
        "colab": {
          "base_uri": "https://localhost:8080/",
          "height": 335
        },
        "id": "wmUPWRihxQ1a",
        "outputId": "38c5e90e-8148-496f-b1d4-2c8b27324503"
      },
      "source": [
        "testMap = Map()\n",
        "testMap.ReadFromString(mapstr, width, height)\n",
        "#91, 23, 141, 25, 66.38477631\n",
        "SimpleTest(ThetaStar, height, width, mapstr, 23, 91, 25, 141, 56.62741699, EuclidDistance)"
      ],
      "execution_count": 31,
      "outputs": [
        {
          "output_type": "stream",
          "text": [
            "Path found! Length: 63.38940996999313. Nodes created: 1189. Number of steps: 983. Correct: False\n"
          ],
          "name": "stdout"
        },
        {
          "output_type": "display_data",
          "data": {
            "image/png": "[encoded data removed]",
            "text/plain": [
              "<Figure size 900x600 with 1 Axes>"
            ]
          },
          "metadata": {
            "tags": [],
            "needs_background": "light"
          }
        }
      ]
    }
  ]
}