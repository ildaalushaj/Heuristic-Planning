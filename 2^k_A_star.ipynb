{
  "nbformat": 4,
  "nbformat_minor": 0,
  "metadata": {
    "kernelspec": {
      "display_name": "Python 3",
      "language": "python",
      "name": "python3"
    },
    "language_info": {
      "codemirror_mode": {
        "name": "ipython",
        "version": 3
      },
      "file_extension": ".py",
      "mimetype": "text/x-python",
      "name": "python",
      "nbconvert_exporter": "python",
      "pygments_lexer": "ipython3",
      "version": "3.7.0"
    },
    "colab": {
      "name": "2^k_A_star.ipynb",
      "provenance": [],
      "collapsed_sections": []
    }
  },
  "cells": [
    {
      "cell_type": "markdown",
      "metadata": {
        "id": "lPjdB__hWkWB"
      },
      "source": [
        "# $2^k$ A*\n",
        "\n",
        "\n",
        "\n"
      ]
    },
    {
      "cell_type": "code",
      "metadata": {
        "id": "wXg3nsGbWkWL"
      },
      "source": [
        "from PIL import Image, ImageDraw\n",
        "import numpy as np\n",
        "import matplotlib.pyplot as plt\n",
        "import math\n",
        "%matplotlib inline\n",
        "EPS = 0.000001"
      ],
      "execution_count": 1,
      "outputs": []
    },
    {
      "cell_type": "code",
      "metadata": {
        "id": "aundW2rVFj9m",
        "colab": {
          "base_uri": "https://localhost:8080/"
        },
        "outputId": "17d53b0a-63fa-4049-c1a4-1c1eb8c47164"
      },
      "source": [
        "from google.colab import drive\n",
        "drive.mount(\"/content/drive\")"
      ],
      "execution_count": 2,
      "outputs": [
        {
          "output_type": "stream",
          "text": [
            "Mounted at /content/drive\n"
          ],
          "name": "stdout"
        }
      ]
    },
    {
      "cell_type": "code",
      "metadata": {
        "id": "qGb2DRHAHX4g",
        "colab": {
          "base_uri": "https://localhost:8080/"
        },
        "outputId": "aba7421c-80df-4dc9-c261-869cc2d220b9"
      },
      "source": [
        "cd drive/MyDrive/Colab\\ Notebooks"
      ],
      "execution_count": 3,
      "outputs": [
        {
          "output_type": "stream",
          "text": [
            "/content/drive/MyDrive/Colab Notebooks\n"
          ],
          "name": "stdout"
        }
      ]
    },
    {
      "cell_type": "markdown",
      "metadata": {
        "id": "9grBvLc1WkWN"
      },
      "source": [
        "### Grid map representation and allowed moves on a grid\n",
        "\n",
        "Square grid map class represents agent's environment\n",
        "\n",
        "- width -- the number of rows in grid\n",
        "- height -- the number of columns in grid\n",
        "- cells -- the binary matrix, which represents the grid. 0 - cell is traversable\n",
        "1 - cell is blocked"
      ]
    },
    {
      "cell_type": "code",
      "metadata": {
        "id": "2yz3pAPqWkWP"
      },
      "source": [
        "import math\n",
        "\n",
        "class Map:\n",
        "\n",
        "    # Default constructor\n",
        "    def __init__(self,k):\n",
        "        self.k = k\n",
        "        self.width = 0\n",
        "        self.height = 0\n",
        "        self.cells = []\n",
        "    \n",
        "    # Initialization of map by string.\n",
        "    def ReadFromString(self, cellStr, width, height):\n",
        "        self.width = width\n",
        "        self.height = height\n",
        "        self.cells = [[0 for _ in range(width)] for _ in range(height)]\n",
        "        cellLines = cellStr.split(\"\\n\")\n",
        "        i = 0\n",
        "        j = 0\n",
        "        for l in cellLines:\n",
        "            if len(l) != 0:\n",
        "                j = 0\n",
        "                for c in l:\n",
        "                    if c == '.':\n",
        "                        self.cells[i][j] = 0\n",
        "                    elif c == '#':\n",
        "                        self.cells[i][j] = 1\n",
        "                    else:\n",
        "                        continue\n",
        "                    j += 1\n",
        "                # TODO\n",
        "                if j != width:\n",
        "                    raise Exception(\"Size Error. Map width = \", j, \", but must be\", width )\n",
        "                \n",
        "                i += 1\n",
        "\n",
        "        if i != height:\n",
        "            raise Exception(\"Size Error. Map height = \", i, \", but must be\", height )\n",
        "    \n",
        "    # Initialization of map by list of cells.\n",
        "    def SetGridCells(self, width, height, gridCells):\n",
        "        self.width = width\n",
        "        self.height = height\n",
        "        self.cells = gridCells\n",
        "\n",
        "    # Check if the cell is on a grid.\n",
        "    def inBounds(self, i, j):\n",
        "        return (0 <= j < self.width) and (0 <= i < self.height)\n",
        "    \n",
        "    # Check if thec cell is not an obstacle.\n",
        "    def Traversable(self, i, j):\n",
        "        return not self.cells[i][j]\n",
        "    \n",
        "    # Checks cell is not obstacle.\n",
        "    def Traversable_(self, i, j, x, y):\n",
        "        ans = True\n",
        "        dx = x - i\n",
        "        dy = y - j\n",
        "        if dy == 0 or dx == 0:\n",
        "            return not self.cells[x][y]\n",
        "          \n",
        "        d_max = max(abs(dx), abs(dy))\n",
        "\n",
        "        if d_max == abs(dy):\n",
        "            if dy > 0:\n",
        "                for delta_y in range(1, dy + 1):\n",
        "                    delta_x = dx*delta_y/dy\n",
        "                    if abs(round(delta_x) - delta_x) < 10e-6:\n",
        "                        if self.cells[i + math.floor(delta_x)][j + math.floor(delta_y)]:\n",
        "                            ans = False\n",
        "                    else:\n",
        "                        if self.cells[i + math.floor(delta_x)][j + math.floor(delta_y)] or self.cells[i + math.floor(delta_x) + 1][j + math.floor(delta_y)]:\n",
        "                            ans = False\n",
        "            else:\n",
        "                for delta_y in range(dy, 0):               \n",
        "                    delta_x = dx*delta_y/dy\n",
        "                    if abs(round(delta_x) - delta_x) < 10e-6:\n",
        "                        if self.cells[i + math.floor(delta_x)][j + math.floor(delta_y)]:\n",
        "                            ans = False\n",
        "                    else:\n",
        "                        if self.cells[i + math.floor(delta_x)][j + math.floor(delta_y)] or self.cells[i + math.floor(delta_x) + 1][j + math.floor(delta_y)]:\n",
        "                            ans = False\n",
        "        else:\n",
        "            if dx > 0:\n",
        "                for delta_x in range(1, dx + 1):\n",
        "                    delta_y = dy*delta_x/dx\n",
        "                    if abs(round(delta_y) - delta_y) < 10e-6:\n",
        "                        if self.cells[i + math.floor(delta_x)][j + math.floor(delta_y)]:\n",
        "                            ans = False\n",
        "                    else:\n",
        "                        if self.cells[i + math.floor(delta_x)][j + math.floor(delta_y)] or self.cells[i + math.floor(delta_x)][j + math.floor(delta_y) + 1]:\n",
        "                            ans = False\n",
        "            else:\n",
        "                for delta_x in range(dx, 0):               \n",
        "                    delta_y = dy*delta_x/dx\n",
        "                    if abs(round(delta_y) - delta_y) < 10e-6:\n",
        "                        if self.cells[i + math.floor(delta_x)][j + math.floor(delta_y)]:\n",
        "                            ans = False\n",
        "                    else:\n",
        "                        if self.cells[i + math.floor(delta_x)][j + math.floor(delta_y)] or self.cells[i + math.floor(delta_x)][j + math.floor(delta_y) + 1]:\n",
        "                            ans = False\n",
        "        return ans\n",
        "\n",
        "    # Creates a list of neighbour cells as (i,j) tuples.\n",
        "    def GetNeighbors(self, i, j):\n",
        "\n",
        "        neighbors = [(0,1), (1,0)]\n",
        "        number_of_vectors = len(neighbors)\n",
        "        current_i = i\n",
        "        current_j = j\n",
        "        \n",
        "        for i in range(3,self.k+1):\n",
        "          n_new = 2**(i-2) + 1\n",
        "          new_neighbors = [0]*n_new\n",
        "          for n,_ in enumerate(new_neighbors):\n",
        "            if n % 2 == 0:\n",
        "              new_neighbors[n] = neighbors[int(n/2)]\n",
        "            else:\n",
        "              new_neighbors[n] = (neighbors[int(n/2)][0] + neighbors[int(n/2) + 1][0], neighbors[int(n/2)][1] + neighbors[int(n/2)+1][1])\n",
        "          neighbors = new_neighbors\n",
        "\n",
        "        final_neighbors = []\n",
        "        for i, j in neighbors:\n",
        "          final_neighbors.append((i,j))\n",
        "          final_neighbors.append((-i,j))\n",
        "          final_neighbors.append((i,-j))\n",
        "          final_neighbors.append((-i,-j))\n",
        "\n",
        "        final_final_neighbors = []\n",
        "        for i, j in list(set(final_neighbors)):\n",
        "          if self.inBounds(i + current_i, j + current_j):\n",
        "            if self.Traversable_(current_i, current_j, current_i + i, current_j + j):\n",
        "              final_final_neighbors.append((i, j))\n",
        "        return list(set(final_final_neighbors))\n",
        "\n",
        "    def get_moves_list(self):\n",
        "        neighbors = [(1,0),(0,1)]\n",
        "\n",
        "        for i in range(3,self.k+1):\n",
        "          n_new = 2**(i-2) + 1\n",
        "          new_neighbors = [0]*n_new\n",
        "          for n,_ in enumerate(new_neighbors):\n",
        "            if n % 2 == 0:\n",
        "              new_neighbors[n] = neighbors[int(n/2)]\n",
        "            else:\n",
        "              new_neighbors[n] = (neighbors[int(n/2)][0] + neighbors[int(n/2) + 1][0], neighbors[int(n/2)][1] + neighbors[int(n/2)+1][1])\n",
        "          neighbors = new_neighbors\n",
        "\n",
        "        final_neighbors = []\n",
        "        for i, j in neighbors:\n",
        "          final_neighbors.append((i,j))\n",
        "        for i, j in neighbors[::-1]:\n",
        "          if i!=0:\n",
        "            final_neighbors.append((-i,j))\n",
        "        for i, j in neighbors:\n",
        "          if j!=0:\n",
        "            final_neighbors.append((-i,-j))\n",
        "        for i, j in neighbors[::-1]:\n",
        "          if i*j!=0:\n",
        "            final_neighbors.append((i,-j))\n",
        "        return final_neighbors"
      ],
      "execution_count": 2,
      "outputs": []
    },
    {
      "cell_type": "markdown",
      "metadata": {
        "id": "3In0D0gqWkWR"
      },
      "source": [
        "Computes a cost of transition from cell `(i1, j1)` to cell `(i2, j2)`"
      ]
    },
    {
      "cell_type": "code",
      "metadata": {
        "id": "rnc_b0zdWkWS"
      },
      "source": [
        "def CalculateCost(i1, j1, i2, j2):\n",
        "    return math.sqrt((i1 - i2) ** 2 + (j1 - j2) ** 2)"
      ],
      "execution_count": 3,
      "outputs": []
    },
    {
      "cell_type": "markdown",
      "metadata": {
        "id": "od51b1v1WkWT"
      },
      "source": [
        "### Node representation\n",
        "\n",
        "Node class represents a search node\n",
        "\n",
        "- i, j: coordinates of corresponding grid element\n",
        "- g: g-value of the node\n",
        "- h: h-value of the node\n",
        "- F: f-value of the node\n",
        "- parent: pointer to the parent-node "
      ]
    },
    {
      "cell_type": "code",
      "metadata": {
        "id": "lgx2IM84WkWU"
      },
      "source": [
        "class Node:\n",
        "    def __init__(self, i, j, g = math.inf, h = math.inf, F = None, parent = None, movement = None, k=0):\n",
        "        self.i = i\n",
        "        self.j = j\n",
        "        self.g = g\n",
        "        if F is None:\n",
        "            self.F = self.g + h\n",
        "        else:\n",
        "            self.F = F        \n",
        "        self.parent = parent\n",
        "        self.movement = movement\n",
        "        self.k = k\n",
        "    \n",
        "    def __eq__(self, other):\n",
        "        return (self.i == other.i) and (self.j == other.j)\n",
        "    \n",
        "    def __lt__(self, other):\n",
        "        return self.F < other.F or (self.F == other.F and self.k > other.k)"
      ],
      "execution_count": 4,
      "outputs": []
    },
    {
      "cell_type": "code",
      "metadata": {
        "id": "p6fWLmdEXYca"
      },
      "source": [
        "def Draw(gridMap : Map, start : Node = None, goal : Node = None, path : list = None, nodesExpanded = None, nodesOpened = None):\n",
        "    k = 5\n",
        "    hIm = gridMap.height * k\n",
        "    wIm = gridMap.width * k\n",
        "    im = Image.new('RGB', (wIm, hIm), color = 'white')\n",
        "    draw = ImageDraw.Draw(im)\n",
        "    for i in range(gridMap.height):\n",
        "        for j in range(gridMap.width):\n",
        "            if(gridMap.cells[i][j] == 1):\n",
        "                draw.rectangle((j * k, i * k, (j + 1) * k - 1, (i + 1) * k - 1), fill=( 70, 80, 80 ))\n",
        "\n",
        "    if nodesOpened is not None:\n",
        "        for node in nodesOpened:\n",
        "            draw.rectangle((node.j * k, node.i * k, (node.j + 1) * k - 1, (node.i + 1) * k - 1), fill=(213, 219, 219), width=0)\n",
        "\n",
        "    if nodesExpanded is not None:\n",
        "        for node in nodesExpanded:\n",
        "            draw.rectangle((node.j * k, node.i * k, (node.j + 1) * k - 1, (node.i + 1) * k - 1), fill=( 131, 145, 146 ), width=0)\n",
        "\n",
        "    if path is not None:\n",
        "        for step in path:\n",
        "            if (step is not None):\n",
        "                if (gridMap.Traversable(step.i, step.j)):\n",
        "                    draw.rectangle((step.j * k, step.i * k, (step.j + 1) * k - 1, (step.i + 1) * k - 1), fill=(52, 152, 219), width=0)\n",
        "                else:\n",
        "                    draw.rectangle((step.j * k, step.i * k, (step.j + 1) * k - 1, (step.i + 1) * k - 1), fill=(230, 126, 34), width=0)\n",
        "\n",
        "    if (start is not None) and (gridMap.Traversable(start.i, start.j)):\n",
        "        draw.rectangle((start.j * k, start.i * k, (start.j + 1) * k - 1, (start.i + 1) * k - 1), fill=(40, 180, 99), width=0)\n",
        "    \n",
        "    if (goal is not None) and (gridMap.Traversable(goal.i, goal.j)):\n",
        "        draw.rectangle((goal.j * k, goal.i * k, (goal.j + 1) * k - 1, (goal.i + 1) * k - 1), fill=(231, 76, 60), width=0)\n",
        "\n",
        "\n",
        "    fig, ax = plt.subplots(dpi=150)\n",
        "    ax.axes.xaxis.set_visible(False)\n",
        "    ax.axes.yaxis.set_visible(False)\n",
        "    plt.imshow(np.asarray(im))"
      ],
      "execution_count": 5,
      "outputs": []
    },
    {
      "cell_type": "code",
      "metadata": {
        "colab": {
          "base_uri": "https://localhost:8080/",
          "height": 403
        },
        "id": "MprgTHBmHore",
        "outputId": "e660375e-34b9-49c2-f10a-484935c153d4"
      },
      "source": [
        "height = 15\n",
        "width = 30\n",
        "mapstr = '''\n",
        ". . . . . . . . . . . . . . . . . . . . . # # . . . . . . .  \n",
        ". . . . . . . . . . . . . . . . . . . . . # # . . . . . . . \n",
        ". . . . . . . . . . . . . . . . . . . . . # # . . . . . . . \n",
        ". . . # # . . . . . . . . . . . . . . . . # # . . . . . . . \n",
        ". . . # # . . . . . . . . # # . . . . . . # # . . . . . . . \n",
        ". . . # # . . . . . . . . # # . . . . . . # # # # # . . . . \n",
        ". . . # # . . . . . . . . # # . . . . . . # # # # # . . . . \n",
        ". . . # # . . . . . . . . # # . . . . . . . . . . . . . . . \n",
        ". . . # # . . . . . . . . # # . . . . . . . . . . . . . . . \n",
        ". . . # # . . . . . . . . # # . . . . . . . . . . . . . . . \n",
        ". . . # # . . . . . . . . # # . . . . . . . . . . . . . . . \n",
        ". . . # # . . . . . . . . # # . . . . . . . . . . . . . . . \n",
        ". . . . . . . . . . . . . # # . . . . . . . . . . . . . . . \n",
        ". . . . . . . . . . . . . # # . . . . . . . . . . . . . . .\n",
        ". . . . . . . . . . . . . # # . . . . . . . . . . . . . . .\n",
        "'''\n",
        "\n",
        "testMap = Map(k = 2)\n",
        "testMap.ReadFromString(mapstr, width, height)\n",
        "start = Node(1, 1)\n",
        "goal = Node(13, 28)\n",
        "Draw(testMap, start, goal)"
      ],
      "execution_count": null,
      "outputs": [
        {
          "output_type": "display_data",
          "data": {
            "image/png": "[encoded data removed]",
            "text/plain": [
              "<Figure size 900x600 with 1 Axes>"
            ]
          },
          "metadata": {
            "tags": [],
            "needs_background": "light"
          }
        }
      ]
    },
    {
      "cell_type": "markdown",
      "metadata": {
        "id": "mQ6jkU2cWkWV"
      },
      "source": [
        "### Open and close sets implementation\n",
        "A crucial part of any search algorithm (A* including) is the code for handling OPEN/CLOSED 'lists'. Ineffective implementation of these 'lists' may become a bottleneck, expecially for large instances. So try your best to implement OPEN and CLOSED efficiently and correctly."
      ]
    },
    {
      "cell_type": "code",
      "metadata": {
        "id": "pw02rP4RWkWW"
      },
      "source": [
        "from heapq import heappop, heappush\n",
        "\n",
        "class YourOpen:\n",
        "    #!!!TODO!!!\n",
        "    #Create your own modification of OPEN#\n",
        "    def __init__(self):\n",
        "        self.heap = []\n",
        "        self.ij_to_item = {}\n",
        "    \n",
        "    def __iter__(self):\n",
        "        return iter(self.ij_to_item.values())\n",
        "\n",
        "    def __len__(self):\n",
        "        return len(self.ij_to_item)\n",
        "\n",
        "    def isEmpty(self):\n",
        "        return len(self.ij_to_item) == 0\n",
        "\n",
        "    def GetBestNode(self):\n",
        "        item = heappop(self.heap)\n",
        "        ij = (item.i, item.j)\n",
        "        while self.ij_to_item.pop(ij, None) is None:\n",
        "            item = heappop(self.heap)\n",
        "            ij = (item.i, item.j)\n",
        "        return item\n",
        "\n",
        "    def AddNode(self, item : Node):\n",
        "        ij = (item.i, item.j)\n",
        "        item_curr = self.ij_to_item.get(ij)\n",
        "        if item_curr is None or item.g < item_curr.g or abs(item.g - item_curr.g) < EPS:\n",
        "            self.ij_to_item[ij] = item\n",
        "            heappush(self.heap, item)\n"
      ],
      "execution_count": 6,
      "outputs": []
    },
    {
      "cell_type": "code",
      "metadata": {
        "id": "upiRLKkNWkWZ"
      },
      "source": [
        "class YourClosed:\n",
        "    #!!!TODO!!!\n",
        "    #Create your own modification of CLOSED#\n",
        "\n",
        "    def __init__(self):\n",
        "        self.elements = {}\n",
        "\n",
        "    def __iter__(self):\n",
        "        return iter(self.elements.values())\n",
        "    \n",
        "    def __len__(self):\n",
        "        return len(self.elements)\n",
        "    \n",
        "    # AddNode is the method that inserts the node to CLOSED\n",
        "    def AddNode(self, item : Node, *args):\n",
        "        ij = item.i, item.j\n",
        "        self.elements[ij] = item\n",
        "\n",
        "    # WasExpanded is the method that checks if a node has been expanded\n",
        "    def WasExpanded(self, item : Node, *args):\n",
        "        ij = item.i, item.j\n",
        "        return ij in self.elements\n"
      ],
      "execution_count": 7,
      "outputs": []
    },
    {
      "cell_type": "markdown",
      "metadata": {
        "id": "dB0yRXGiWkWb"
      },
      "source": [
        "## A* algorithm with different heuristics\n",
        "Implement 3 different heuristic functions besides the given Manhattan distance - Diagonal distance, Chebyshev distance, Euclidean distance. After that, implement A* using YourOpen and YourClosed.\n",
        "\n",
        "Importanly, your search algorithm needs to return the following:\n",
        "- boolean flag indicating whether the path was found or not\n",
        "- goal state (so you can reconstruct the path later using the parent pointers)\n",
        "- Open and Closed 'lists' so you can use them for further analysis (i.e. computing how many nodes were created within the search process, how many expansions were made etc.)"
      ]
    },
    {
      "cell_type": "code",
      "metadata": {
        "id": "zPLCMhE0U0OL"
      },
      "source": [
        "import numpy as np\n",
        "\n",
        "def h_4(x, y):\n",
        "    return x + y\n",
        "\n",
        "def h_8(x, y):\n",
        "    if x > y:\n",
        "        x, y = y, x\n",
        "    return y - x + np.sqrt(2)*x\n",
        "\n",
        "def h_16(x, y):\n",
        "    if x > y:\n",
        "        x, y = y, x\n",
        "    if 2*x < y:\n",
        "        return y - 2*x + np.sqrt(5)*x\n",
        "    else:\n",
        "        return np.sqrt(5)*(y - x) + np.sqrt(2)*(2*x - y)\n",
        "\n",
        "def h_32(x, y):\n",
        "    if x > y:\n",
        "        x, y = y, x\n",
        "    if 3*x < y:\n",
        "        return (y - 3*x) + np.sqrt(10)*x\n",
        "    elif 2*x < y:\n",
        "        return np.sqrt(10)*(y - 2*x) + np.sqrt(5)*(3*x - y)\n",
        "    elif 3*x < 2*y :\n",
        "        return np.sqrt(5)*(2*y - 3*x) + np.sqrt(13)*(2*x - y)\n",
        "    else:\n",
        "      return np.sqrt(13)*(y - x) + np.sqrt(2)*(3*x - 2*y)\n",
        "\n",
        "def h_64(x,y):\n",
        "    if x > y:\n",
        "        x, y = y, x\n",
        "    if 4*x < y:\n",
        "      return (y - 4*x) + np.sqrt(17)*x\n",
        "    elif 3*x < y :\n",
        "      return np.sqrt(17)*(y - 3*x) + np.sqrt(10)*(4*x - y)\n",
        "    elif 5*x < 2*y:\n",
        "      return np.sqrt(10)*(2*y - 5*x) + np.sqrt(29)*(3*x - y)\n",
        "    elif 2*x < y:\n",
        "      return np.sqrt(29)*(y - 2*x) + np.sqrt(5)*(5*x - 2*y)\n",
        "    elif 5*x <3*y :\n",
        "      return np.sqrt(5)*(3*y - 5*x) + np.sqrt(34)*(2*x - y)\n",
        "    elif 3*x < 2*y :\n",
        "      return np.sqrt(34)*(2*y - 3*x) + np.sqrt(13)*(5*x - 3*y)\n",
        "    elif 4*x < 3*y:\n",
        "      return np.sqrt(13)*(3*y - 4*x) + 5*(3*x - 2*y)\n",
        "    else:\n",
        "      return 5*(y - x) + np.sqrt(2)*(4*x - 3*y)\n",
        "\n"
      ],
      "execution_count": 8,
      "outputs": []
    },
    {
      "cell_type": "code",
      "metadata": {
        "colab": {
          "base_uri": "https://localhost:8080/"
        },
        "id": "5tOG_K5NMdu0",
        "outputId": "294a8a23-ae75-432f-fa8f-3d901725ad6b"
      },
      "source": [
        "h_16(12, 27)"
      ],
      "execution_count": null,
      "outputs": [
        {
          "output_type": "execute_result",
          "data": {
            "text/plain": [
              "29.832815729997478"
            ]
          },
          "metadata": {
            "tags": []
          },
          "execution_count": 10
        }
      ]
    },
    {
      "cell_type": "code",
      "metadata": {
        "id": "gca3FDS6WkWh"
      },
      "source": [
        "def AStar(gridMap : Map, k : int, iStart : int, jStart : int, iGoal : int, jGoal : int):\n",
        "\n",
        "    OPEN = YourOpen()\n",
        "    CLOSED = YourClosed()\n",
        "    all_moves = gridMap.get_moves_list()\n",
        "    if k == 2:\n",
        "        h = h_4\n",
        "    elif k == 3:\n",
        "        h = h_8\n",
        "    elif k == 4:\n",
        "        h = h_16\n",
        "    elif k == 5:\n",
        "        h = h_32\n",
        "    elif k == 6:\n",
        "        h = h_64\n",
        "    else:\n",
        "        print('choose another k, please')\n",
        "    node_start = Node(iStart, jStart, g=0, h=h(iGoal - iStart, jGoal - jStart))\n",
        "    node_goal = Node(iGoal, jGoal, h = 0)\n",
        "    OPEN.AddNode(node_start)\n",
        "    node_start = OPEN.GetBestNode()\n",
        "    for x, y in gridMap.GetNeighbors(node_start.i, node_start.j):\n",
        "        OPEN.AddNode(Node(node_start.i + x, node_start.j + y, g = CalculateCost(node_start.i, node_start.j, node_start.i + x, node_start.j + y), h = h(abs(node_start.i + x - iGoal), abs(node_start.j + y - jGoal)), parent = node_start, movement = (x, y)))\n",
        "    CLOSED.AddNode(node_start)\n",
        "\n",
        "    while not OPEN.isEmpty():\n",
        "        node = OPEN.GetBestNode()\n",
        "        CLOSED.AddNode(node)\n",
        "        if node == node_goal:\n",
        "            return True, node, CLOSED, OPEN\n",
        "        neighbors_list = gridMap.GetNeighbors(node.i, node.j)\n",
        "        if all_moves.index(node.movement) % 2 != 0:\n",
        "            if all_moves[all_moves.index(node.movement)] in neighbors_list and not CLOSED.WasExpanded(Node(node.i + all_moves[all_moves.index(node.movement)][0], node.j + all_moves[all_moves.index(node.movement)][1])):\n",
        "                OPEN.AddNode(Node(node.i + all_moves[all_moves.index(node.movement)][0], node.j + all_moves[all_moves.index(node.movement)][1], parent = node, movement = node.movement, g = node.g + CalculateCost(node.i, node.j, node.i + all_moves[all_moves.index(node.movement)][0], node.j + all_moves[all_moves.index(node.movement)][1]), h = h(abs(iGoal - node.i - all_moves[all_moves.index(node.movement)][0]), abs(jGoal - node.j - all_moves[all_moves.index(node.movement)][1]))))\n",
        "            if all_moves[(all_moves.index(node.movement) + 1)%len(all_moves)] in neighbors_list and not CLOSED.WasExpanded(Node(node.i + all_moves[(all_moves.index(node.movement) + 1)%len(all_moves)][0], node.j + all_moves[(all_moves.index(node.movement) + 1)%len(all_moves)][1])):\n",
        "                OPEN.AddNode(Node(node.i + all_moves[(all_moves.index(node.movement) + 1)%len(all_moves)][0], node.j + all_moves[(all_moves.index(node.movement) + 1)%len(all_moves)][1], parent = node, movement = all_moves[(all_moves.index(node.movement) + 1)%len(all_moves)], g = node.g + CalculateCost(node.i, node.j, node.i + all_moves[(all_moves.index(node.movement) + 1)%len(all_moves)][0], node.j + all_moves[(all_moves.index(node.movement) + 1)%len(all_moves)][1]), h = h(abs(iGoal - node.i - all_moves[(all_moves.index(node.movement) + 1)%len(all_moves)][0]), abs(jGoal - node.j - all_moves[(all_moves.index(node.movement) + 1)%len(all_moves)][1]))))\n",
        "            if all_moves[(all_moves.index(node.movement) - 1)%len(all_moves)] in neighbors_list and not CLOSED.WasExpanded(Node(node.i + all_moves[(all_moves.index(node.movement) - 1)%len(all_moves)][0], node.j + all_moves[(all_moves.index(node.movement) - 1)%len(all_moves)][1])):\n",
        "                OPEN.AddNode(Node(node.i + all_moves[(all_moves.index(node.movement) - 1)%len(all_moves)][0], node.j + all_moves[(all_moves.index(node.movement) - 1)%len(all_moves)][1], parent = node, movement = all_moves[(all_moves.index(node.movement) - 1)%len(all_moves)], g = node.g + CalculateCost(node.i, node.j, node.i + all_moves[(all_moves.index(node.movement) - 1)%len(all_moves)][0], node.j + all_moves[(all_moves.index(node.movement) - 1)%len(all_moves)][1]), h = h(abs(iGoal - node.i - all_moves[(all_moves.index(node.movement) - 1)%len(all_moves)][0]), abs(jGoal - node.j - all_moves[(all_moves.index(node.movement) - 1)%len(all_moves)][1]))))\n",
        "        else:\n",
        "            if all_moves[all_moves.index(node.movement)] in neighbors_list and not CLOSED.WasExpanded(Node(node.i + all_moves[all_moves.index(node.movement)][0], node.j + all_moves[all_moves.index(node.movement)][1])):\n",
        "                OPEN.AddNode(Node(node.i + all_moves[all_moves.index(node.movement)][0], node.j + all_moves[all_moves.index(node.movement)][1], parent = node, movement = node.movement, g = node.g + CalculateCost(node.i, node.j, node.i + all_moves[all_moves.index(node.movement)][0], node.j + all_moves[all_moves.index(node.movement)][1]), h = h(abs(iGoal - node.i - all_moves[all_moves.index(node.movement)][0]), abs(jGoal - node.j - all_moves[all_moves.index(node.movement)][1]))))\n",
        "        p = [(i + node.parent.i, j + node.parent.j) for i, j in gridMap.GetNeighbors(node.parent.i, node.parent.j)]\n",
        "        for x, y in neighbors_list:\n",
        "            new = Node(x + node.i, y + node.j)\n",
        "            p_new = [(i + new.i, j + new.j) for i, j in gridMap.GetNeighbors(node.i + x, node.j + y)] \n",
        "            joints = list(set(p) & set(p_new))\n",
        "            d_min = 10e8\n",
        "            check = []\n",
        "            for joint in joints:\n",
        "                 if CalculateCost(node.parent.i, node.parent.j, joint[0], joint[1]) + CalculateCost(joint[0],joint[1], node.i+x, node.j+y) < d_min:\n",
        "                     d_min = CalculateCost(node.parent.i, node.parent.j, joint[0], joint[1]) + CalculateCost(joint[0],joint[1], node.i+x, node.j+y)\n",
        "            for joint in joints:\n",
        "                if abs(d_min - CalculateCost(node.parent.i, node.parent.j, joint[0], joint[1]) - CalculateCost(joint[0], joint[1], node.i + x, node.j + y)) < 10e-5:\n",
        "                    check.append((joint[0], joint[1]))\n",
        "\n",
        "            if len(check) == 1:\n",
        "                if check[0][0] == node.i and check[0][1] == node.j and not CLOSED.WasExpanded(Node(node.i + x, node.j + y, parent = node, movement = (x,y), g = node.g + CalculateCost(node.i,node.j,node.i+x,node.j+y), h = h(abs(iGoal - (node.i+x)), abs(jGoal - (node.j+y))))):              \n",
        "                    OPEN.AddNode(Node(node.i + x, node.j + y, parent = node, movement = (x,y), g = node.g + CalculateCost(node.i,node.j,node.i+x,node.j+y), h = h(abs(iGoal - (node.i+x)), abs(jGoal - (node.j+y)))))\n",
        "\n",
        "\n",
        "\n",
        "    return (False, None, CLOSED, OPEN)"
      ],
      "execution_count": 9,
      "outputs": []
    },
    {
      "cell_type": "markdown",
      "metadata": {
        "id": "i6ehKOWAWkWi"
      },
      "source": [
        "### Make Path\n",
        "This is an auxiliary function that reconstructs a path (i.e. the sequence on moves from start to goal) given a search tree, created by the search algorithm. It basically unwinds the path using the parent pointers. It also returns a length of the path."
      ]
    },
    {
      "cell_type": "code",
      "metadata": {
        "id": "5B6DkY5BWkWj"
      },
      "source": [
        "def MakePath(goal):\n",
        "    length = goal.g\n",
        "    current = goal\n",
        "    path = []\n",
        "    while current.parent:\n",
        "        path.append(current)\n",
        "        current = current.parent\n",
        "    path.append(current)\n",
        "    return path[::-1], length"
      ],
      "execution_count": 10,
      "outputs": []
    },
    {
      "cell_type": "markdown",
      "metadata": {
        "id": "v7KA46vnWkWk"
      },
      "source": [
        "### Simple Single Test\n",
        "This function helps you to run a test of your search algorithm on a single instance (map + start + goal) and validate the result (provided that you know the correct answer to the path finding query and pass it as a parameter)."
      ]
    },
    {
      "cell_type": "code",
      "metadata": {
        "id": "uk8OGL7VWkWl"
      },
      "source": [
        "def SimpleTest(SearchFunction, k, height, width, mapstr, iStart, jStart, iGoal, jGoal, pathLen, *args):\n",
        "    taskMap = Map(k)\n",
        "    taskMap.ReadFromString(mapstr, width, height)\n",
        "    start = Node(iStart, jStart)\n",
        "    goal = Node(iGoal, jGoal)\n",
        "\n",
        "    try:\n",
        "        result = SearchFunction(taskMap, k, start.i, start.j, goal.i, goal.j, *args)\n",
        "        nodesExpanded = result[2]\n",
        "        nodesOpened = result[3]\n",
        "        if result[0]:\n",
        "            path = MakePath(result[1])\n",
        "            correct = abs(path[1] - pathLen) < EPS\n",
        "            print(\"Path found! Length: \" + str(path[1]) + \". Nodes created: \" + str(len(nodesOpened) + len(nodesExpanded)) + \". Number of steps: \" + str(len(nodesExpanded)) + \". Correct: \" + str(correct))\n",
        "            Draw(testMap, start, goal, path[0], nodesExpanded, nodesOpened)\n",
        "        else:\n",
        "            print(\"Path not found!\")\n",
        "            Draw(testMap, start, goal, None, nodesExpanded, nodesOpened)\n",
        "    except Exception as e:\n",
        "        print(\"Execution error\")\n",
        "        print(e)"
      ],
      "execution_count": 11,
      "outputs": []
    },
    {
      "cell_type": "markdown",
      "metadata": {
        "id": "D866Yu1xWkWm"
      },
      "source": [
        "### Proccessing the Input Data and Storing the Results \n",
        "Recall that in this lab you have to use [[MovingAI](https://movingai.com/benchmarks/grids.html)] benchmark as a source dataset for you experiments. So you need to implement functions that will read the data from the dataset, running tests (with validating that your answer is a correct one) and store the obtained results for further analysis.\n",
        "\n",
        "\n",
        "You can use the provided function definitions to organize your work with the benchmark."
      ]
    },
    {
      "cell_type": "code",
      "metadata": {
        "id": "EQe7NbXLWkWn"
      },
      "source": [
        "def ReadMapFromMovingAIFile(path, k):\n",
        "    #!!!TODO!!!\n",
        "    mapping = {'.': '.', 'G': '.', '@': '#', 'O': '#', 'T': '#', '\\n': '\\n'}\n",
        "    with open(path, 'r') as f:\n",
        "        f.readline()\n",
        "        H = int(f.readline().split()[1])\n",
        "        W = int(f.readline().split()[1])\n",
        "        f.readline()\n",
        "        map_str = ''.join(f.readlines())\n",
        "    map_str = ''.join(map(lambda x: mapping[x], map_str))\n",
        "    m = Map(k = k)\n",
        "    m.ReadFromString(map_str, W, H)\n",
        "    return m"
      ],
      "execution_count": 12,
      "outputs": []
    },
    {
      "cell_type": "code",
      "metadata": {
        "id": "h4CG74FfWkWn"
      },
      "source": [
        "def ReadTasksFromMovingAIFile(path):\n",
        "    #!!!TODO!!!\n",
        "    tasks = []\n",
        "    with open(path, 'r') as f:\n",
        "        f.readline()\n",
        "        for line in f:\n",
        "            bucket, map_file, W, H, iStart, jStart, iGoal, jGoal, pathLen = line.split()\n",
        "            tasks.append((map_file, int(iStart), int(jStart), int(iGoal), int(jGoal), float(pathLen)))\n",
        "    return tasks "
      ],
      "execution_count": 13,
      "outputs": []
    },
    {
      "cell_type": "code",
      "metadata": {
        "id": "wrP4A5duWkWp"
      },
      "source": [
        "from tqdm import tqdm\n",
        "def MassiveTest(SearchFunction, k, tasks, map_file_prefix, *args):\n",
        "    allTasksResults = {'found': [], 'length': [], 'true_length': [], 'is_optimal': [], \n",
        "                       'nodes_created': [], 'number_of_steps': []}\n",
        "    #!!!TODO!!!\n",
        "    for map_file, iStart, jStart, iGoal, jGoal, pathLen in tqdm(tasks):\n",
        "        allTasksResults['true_length'].append(pathLen)\n",
        "        #m = Map(k = 2)\n",
        "        m = ReadMapFromMovingAIFile(map_file_prefix + map_file, k = k)\n",
        "        result = SearchFunction(m, k, jStart, iStart, jGoal, iGoal, *args)\n",
        "        nodesExpanded = result[2]\n",
        "        nodesOpened = result[3]\n",
        "        nodes_created = len(nodesOpened) + len(nodesExpanded)\n",
        "        number_of_steps = len(nodesExpanded)\n",
        "        allTasksResults['nodes_created'].append(nodes_created)\n",
        "        allTasksResults['number_of_steps'].append(number_of_steps)\n",
        "        if result[0]:\n",
        "            path = MakePath(result[1])\n",
        "            correct = abs(path[1] - pathLen) < EPS\n",
        "            allTasksResults['found'].append(True)\n",
        "            allTasksResults['length'].append(path[1])\n",
        "            allTasksResults['is_optimal'].append(correct)\n",
        "        else:\n",
        "            allTasksResults['found'].append(False)\n",
        "            allTasksResults['length'].append(None)\n",
        "            allTasksResults['is_optimal'].append(None)\n",
        "            \n",
        "    return allTasksResults"
      ],
      "execution_count": 14,
      "outputs": []
    },
    {
      "cell_type": "markdown",
      "metadata": {
        "id": "j7vspfuxWkWr"
      },
      "source": [
        "## Now it's time to run simple test"
      ]
    },
    {
      "cell_type": "code",
      "metadata": {
        "id": "6QijjIBVWkWr"
      },
      "source": [
        "height = 15\n",
        "width = 30\n",
        "mapstr = '''\n",
        ". . . . . . . . . . . . . . . . . . . . . # # . . . . . . .  \n",
        ". . . . . . . . . . . . . . . . . . . . . # # . . . . . . . \n",
        ". . . . . . . . . . . . . . . . . . . . . # # . . . . . . . \n",
        ". . . # # . . . . . . . . . . . . . . . . # # . . . . . . . \n",
        ". . . # # . . . . . . . . # # . . . . . . # # . . . . . . . \n",
        ". . . # # . . . . . . . . # # . . . . . . # # # # # . . . . \n",
        ". . . # # . . . . . . . . # # . . . . . . # # # # # . . . . \n",
        ". . . # # . . . . . . . . # # . . . . . . . . . . . . . . . \n",
        ". . . # # . . . . . . . . # # . . . . . . . . . . . . . . . \n",
        ". . . # # . . . . . . . . # # . . . . . . . . . . . . . . . \n",
        ". . . # # . . . . . . . . # # . . . . . . . . . . . . . . . \n",
        ". . . # # . . . . . . . . # # . . . . . . . . . . . . . . . \n",
        ". . . . . . . . . . . . . # # . . . . . . . . . . . . . . . \n",
        ". . . . . . . . . . . . . # # . . . . . . . . . . . . . . .\n",
        ". . . . . . . . . . . . . # # . . . . . . . . . . . . . . .\n",
        "'''\n",
        "iStart = 1\n",
        "jStart = 1\n",
        "iGoal = 13\n",
        "jGoal = 28\n",
        "pathLen = 31.9705627\n",
        "#AStar(gridMap : Map, k : int, iStart : int, jStart : int, iGoal : int, jGoal : int)"
      ],
      "execution_count": null,
      "outputs": []
    },
    {
      "cell_type": "code",
      "metadata": {
        "id": "4jKBRImOZkS1"
      },
      "source": [
        "height = 80\n",
        "width = 211\n",
        "mapstr = '''\n",
        "###################################################################################################################################################################################################################\n",
        "###################################################################################################################################################################################################################\n",
        "##############################################################################################################################.####################################################################################\n",
        "##############################################################################################################################.####################################################################################\n",
        "#################################################################################.............##..............################.#################..............##............#######################################\n",
        "###############################################################################................................................................................................####################################\n",
        "###############################################################################................................................................................................####################################\n",
        "###############################################################################................................................................................................####################################\n",
        "###############################################################################................................................................................................####################################\n",
        "###############################################################################................................................................................................####################################\n",
        "###############################################################################................................................................................................####################################\n",
        "###############################################################################................................................................................................####################################\n",
        "################################################################################.............................................................................................######################################\n",
        "################################################################################..............................................#..............................................######################################\n",
        "#################################################################################............####################............####............###################...........########################################\n",
        "###################################################################################........##########################....############....##########################........########################################\n",
        "####################################################################################.......##########################....############....##########################........########################################\n",
        "####################################################################################.......##########################....############....##########################........########################################\n",
        "###########....########################......#######################################.......##########.#############........########........########################........########################.###############\n",
        "###########....########################......######################..####.##########.......##########.###########............####............######################........###############.########.###############\n",
        "###########..................................#####################........##########.......##########.##...................................................########........##########........####.........#########\n",
        "##########...................................#####################........##########.......##########.##...................................................########........##########.....................#########\n",
        "##########...................................##################.......................................##......................................................#####........................................########\n",
        "##########...................................##################.......................................##......................................................##..........................................#########\n",
        "##########...................................####################.....................................##......................................................##................##........................#########\n",
        "##########...................................####################.....................................##......................................................##................##........................#########\n",
        "##########...................................####################.....................................##......................................##......##......##................##.........................########\n",
        "##########...................................####################.....................................##########################################......##########................##...........................######\n",
        "###########..................................####################.....................................########.......#####.......#####.......###......##########..........................................#########\n",
        "###########..................................####################.............................................................................##########................................###...............#########\n",
        "#########......####......####......####......###################..............................................................................##########...............................####...............#########\n",
        "##########.....####......####......####......####################.............................................................................####..####................................##................#########\n",
        "##########.....####......####......####......####################..................................................................................................................................######.#########\n",
        "########.......####......####......####.......#################....................................................................................................................................################\n",
        "######..........##..................##..........#############......................................................................................................................................################\n",
        "#####.............................................##########.......................................................................................................................................################\n",
        "###................................................#######............................................................................................................................................#############\n",
        "......................................................................................................................................................................................................#############\n",
        ".....................................................................................................................................................................................................##############\n",
        ".....................................................................................................................................................................................................##############\n",
        ".....................................................................................................................................................................................................##############\n",
        ".....................................................................................................................................................................................................##############\n",
        "......................................................................................................................................................................................................#############\n",
        "......................................................................................................................................................................................................#############\n",
        "####...............................................########........................................................................................................................................################\n",
        "######............................................###########......................................................................................................................................################\n",
        "########........##..................##..........###############...................................................................................................................................#################\n",
        "#########......####......####......####.......##################..................................................................................................................................#######...#######\n",
        "##########.....####......####......####......####################.......................................................................................................................#..........####...#########\n",
        "#########......####......####......####......####################.............................................................................##########...............................###................#########\n",
        "##########.....####......####......####......###################..............................................................................##########...............................####...............#########\n",
        "###########..................................##################...............................................................................##......##................................##................#########\n",
        "###########..................................####################.....................................##########################################......##########................##........................#########\n",
        "##########...................................####################.....................................##########################################......##########................##.........................########\n",
        "##########...................................####################.....................................##......................................................##................##........................#########\n",
        "##########...................................####################.....................................##......................................................##................##........................#########\n",
        "##########...................................####################.....................................##......................................................##..........................................#########\n",
        "##########...................................####################.....................................##......................................................##...........................................########\n",
        "##########...................................####################.........##########.......##########.##......................................................#####........##########........................######\n",
        "##########...................................#####################........##########.......##########.##...................................................########........##########.....................#########\n",
        "###########..................................#####################........##########.......##########.##.....####............####............####..........########........###############...####.........#########\n",
        "###########....########################......#######################################.......##########.#############........########........########################........########################.###############\n",
        "####################################################################################.......##########.#############........########........########################........########################.###############\n",
        "####################################################################################.......##########################....############....##########################........########################################\n",
        "###################################################################################........##########################....############....##########################........########################################\n",
        "##################################################################################..........#########################....############....########################............######################################\n",
        "##################################################################################..........###................#.............###.............##................#.............######################################\n",
        "################################################################################.............................................................................................######################################\n",
        "################################################################################.............................................................................................######################################\n",
        "###############################################################################................................................................................................####################################\n",
        "###############################################################################................................................................................................####################################\n",
        "###############################################################################................................................................................................####################################\n",
        "###############################################################################................................................................................................####################################\n",
        "###############################################################################................................................................................................####################################\n",
        "###############################################################################................................................................................................####################################\n",
        "###############################################################################................................................................................................####################################\n",
        "##################################################################################..........####.............##################################.............####............#######################################\n",
        "###################################################################################################################################################################################################################\n",
        "###################################################################################################################################################################################################################\n",
        "###################################################################################################################################################################################################################\n",
        "'''\n"
      ],
      "execution_count": 15,
      "outputs": []
    },
    {
      "cell_type": "code",
      "metadata": {
        "colab": {
          "base_uri": "https://localhost:8080/",
          "height": 335
        },
        "id": "ESBGVDylZ7IC",
        "outputId": "09018559-e3bc-4690-8ec7-16ac024fa2cc"
      },
      "source": [
        "testMap = Map(k = 6)\n",
        "testMap.ReadFromString(mapstr, width, height)\n",
        "\n",
        "SimpleTest(AStar, 6, height, width, mapstr, 23, 91, 25, 141, 56.62741699)"
      ],
      "execution_count": 16,
      "outputs": [
        {
          "output_type": "stream",
          "text": [
            "Path found! Length: 62.66802092665417. Nodes created: 1116. Number of steps: 875. Correct: False\n"
          ],
          "name": "stdout"
        },
        {
          "output_type": "display_data",
          "data": {
            "image/png": "[encoded data removed]",
            "text/plain": [
              "<Figure size 900x600 with 1 Axes>"
            ]
          },
          "metadata": {
            "tags": [],
            "needs_background": "light"
          }
        }
      ]
    },
    {
      "cell_type": "code",
      "metadata": {
        "colab": {
          "base_uri": "https://localhost:8080/",
          "height": 454
        },
        "id": "NZvqKMxLzQsY",
        "outputId": "729b3db4-81b8-4ed6-ae99-f3c690539a23"
      },
      "source": [
        "%%time\n",
        "testMap = Map(k = 2)\n",
        "testMap.ReadFromString(mapstr, width, height)\n",
        "SimpleTest(AStar, 2, height, width, mapstr, iStart, jStart, iGoal, jGoal, pathLen)"
      ],
      "execution_count": null,
      "outputs": [
        {
          "output_type": "stream",
          "text": [
            "Path found! Length: 39.0. Nodes created: 224. Number of steps: 174. Correct: False\n",
            "CPU times: user 43.5 ms, sys: 498 µs, total: 44 ms\n",
            "Wall time: 54.7 ms\n"
          ],
          "name": "stdout"
        },
        {
          "output_type": "display_data",
          "data": {
            "image/png": "[encoded data removed]",
            "text/plain": [
              "<Figure size 900x600 with 1 Axes>"
            ]
          },
          "metadata": {
            "tags": [],
            "needs_background": "light"
          }
        }
      ]
    },
    {
      "cell_type": "code",
      "metadata": {
        "colab": {
          "base_uri": "https://localhost:8080/",
          "height": 454
        },
        "id": "szOrrRiqzdqE",
        "outputId": "a6441454-658c-41fc-d825-004b4171f35b"
      },
      "source": [
        "%%time\n",
        "testMap = Map(k = 3)\n",
        "testMap.ReadFromString(mapstr, width, height)\n",
        "SimpleTest(AStar, 3, height, width, mapstr, iStart, jStart, iGoal, jGoal, pathLen)"
      ],
      "execution_count": null,
      "outputs": [
        {
          "output_type": "stream",
          "text": [
            "Path found! Length: 31.970562748477146. Nodes created: 159. Number of steps: 123. Correct: True\n",
            "CPU times: user 63.4 ms, sys: 347 µs, total: 63.7 ms\n",
            "Wall time: 64.7 ms\n"
          ],
          "name": "stdout"
        },
        {
          "output_type": "display_data",
          "data": {
            "image/png": "[encoded data removed]",
            "text/plain": [
              "<Figure size 900x600 with 1 Axes>"
            ]
          },
          "metadata": {
            "tags": [],
            "needs_background": "light"
          }
        }
      ]
    },
    {
      "cell_type": "code",
      "metadata": {
        "colab": {
          "base_uri": "https://localhost:8080/",
          "height": 454
        },
        "id": "OkZo-NKnzea4",
        "outputId": "0f8d667b-26ae-4f5a-ba55-b93ba91e121d"
      },
      "source": [
        "%%time\n",
        "testMap = Map(k = 4)\n",
        "testMap.ReadFromString(mapstr, width, height)\n",
        "SimpleTest(AStar, 4, height, width, mapstr, iStart, jStart, iGoal, jGoal, pathLen)"
      ],
      "execution_count": null,
      "outputs": [
        {
          "output_type": "stream",
          "text": [
            "Path found! Length: 30.901689239237314. Nodes created: 116. Number of steps: 86. Correct: False\n",
            "CPU times: user 144 ms, sys: 0 ns, total: 144 ms\n",
            "Wall time: 144 ms\n"
          ],
          "name": "stdout"
        },
        {
          "output_type": "display_data",
          "data": {
            "image/png": "[encoded data removed]",
            "text/plain": [
              "<Figure size 900x600 with 1 Axes>"
            ]
          },
          "metadata": {
            "tags": [],
            "needs_background": "light"
          }
        }
      ]
    },
    {
      "cell_type": "code",
      "metadata": {
        "colab": {
          "base_uri": "https://localhost:8080/",
          "height": 454
        },
        "id": "quIbOZdazfLk",
        "outputId": "2704d93e-1448-4df5-bcb7-a3ca06355dbb"
      },
      "source": [
        "%%time\n",
        "testMap = Map(k = 5)\n",
        "testMap.ReadFromString(mapstr, width, height)\n",
        "SimpleTest(AStar, 5, height, width, mapstr, iStart, jStart, iGoal, jGoal, pathLen)"
      ],
      "execution_count": null,
      "outputs": [
        {
          "output_type": "stream",
          "text": [
            "Path found! Length: 30.575187546938903. Nodes created: 123. Number of steps: 74. Correct: False\n",
            "CPU times: user 368 ms, sys: 0 ns, total: 368 ms\n",
            "Wall time: 370 ms\n"
          ],
          "name": "stdout"
        },
        {
          "output_type": "display_data",
          "data": {
            "image/png": "[encoded data removed]",
            "text/plain": [
              "<Figure size 900x600 with 1 Axes>"
            ]
          },
          "metadata": {
            "tags": [],
            "needs_background": "light"
          }
        }
      ]
    },
    {
      "cell_type": "code",
      "metadata": {
        "colab": {
          "base_uri": "https://localhost:8080/",
          "height": 454
        },
        "id": "Lv2l3P97zfxQ",
        "outputId": "03566956-6042-47d0-ab84-948cbd47a394"
      },
      "source": [
        "%%time\n",
        "testMap = Map(k = 6)\n",
        "testMap.ReadFromString(mapstr, width, height)\n",
        "SimpleTest(AStar, 6, height, width, mapstr, iStart, jStart, iGoal, jGoal, pathLen)"
      ],
      "execution_count": null,
      "outputs": [
        {
          "output_type": "stream",
          "text": [
            "Path found! Length: 30.4573138021633. Nodes created: 143. Number of steps: 68. Correct: False\n",
            "CPU times: user 1.15 s, sys: 0 ns, total: 1.15 s\n",
            "Wall time: 1.16 s\n"
          ],
          "name": "stdout"
        },
        {
          "output_type": "display_data",
          "data": {
            "image/png": "[encoded data removed]",
            "text/plain": [
              "<Figure size 900x600 with 1 Axes>"
            ]
          },
          "metadata": {
            "tags": [],
            "needs_background": "light"
          }
        }
      ]
    },
    {
      "cell_type": "code",
      "metadata": {
        "id": "C_jAUVjxG59l"
      },
      "source": [
        "height = 49\n",
        "width = 49\n",
        "mapstr = '''\n",
        "#################################################\n",
        "###............####.###...####.####............##\n",
        "##.............###........###..###.............##\n",
        "#...............................................#\n",
        "#...............................................#\n",
        "#...............................................#\n",
        "#...............................................#\n",
        "#.......................##......................#\n",
        "#......................###......................#\n",
        "#......................###......................#\n",
        "#...............................................#\n",
        "#...............................................#\n",
        "#...............................................#\n",
        "#...............................................#\n",
        "#...............................................#\n",
        "###............####............####............##\n",
        "###............####............####............##\n",
        "###............####............####............##\n",
        "##.............###.............###.............##\n",
        "##..............................................#\n",
        "##..............................................#\n",
        "##..............................................#\n",
        "##..............................................#\n",
        "#...............................................#\n",
        "#...............................................#\n",
        "#...............................................#\n",
        "##..............................................#\n",
        "###.............................................#\n",
        "###.............................................#\n",
        "###.............................................#\n",
        "#...............................................#\n",
        "###............####............####............##\n",
        "###............####............####............##\n",
        "###............####............####............##\n",
        "##.............###.............###.............##\n",
        "#...............................................#\n",
        "#...............................................#\n",
        "#...............................................#\n",
        "#...............................................#\n",
        "#...............................................#\n",
        "#...............................................#\n",
        "#...............................................#\n",
        "#...............................................#\n",
        "#...............................................#\n",
        "#...............................................#\n",
        "#...............................................#\n",
        "#...................###...###...................#\n",
        "###............####.####..####.####............##\n",
        "#################################################\n",
        "'''"
      ],
      "execution_count": null,
      "outputs": []
    },
    {
      "cell_type": "code",
      "metadata": {
        "colab": {
          "base_uri": "https://localhost:8080/",
          "height": 524
        },
        "id": "JykhkoPQKumi",
        "outputId": "7ac5cfdd-b68d-4ff8-9372-9fa872bbd39c"
      },
      "source": [
        "testMap = Map(k = 6)\n",
        "testMap.ReadFromString(mapstr, width, height)\n",
        "SimpleTest(AStar, 6, height, width, mapstr, 45, 44, 9, 27, 1)"
      ],
      "execution_count": null,
      "outputs": [
        {
          "output_type": "stream",
          "text": [
            "Path found! Length: 39.914532627848125. Nodes created: 136. Number of steps: 70. Correct: False\n"
          ],
          "name": "stdout"
        },
        {
          "output_type": "display_data",
          "data": {
            "image/png": "[encoded data removed]",
            "text/plain": [
              "<Figure size 900x600 with 1 Axes>"
            ]
          },
          "metadata": {
            "tags": [],
            "needs_background": "light"
          }
        }
      ]
    },
    {
      "cell_type": "markdown",
      "metadata": {
        "id": "33mphGUQWkWy"
      },
      "source": [
        "## Massive test\n",
        "Now we will run our search algorithm with different k on a range of different instances from the [[MovingAI](https://movingai.com/benchmarks/grids.html)] benchmark, validate that you get the correct solution in each case and analyze the results."
      ]
    },
    {
      "cell_type": "code",
      "metadata": {
        "tags": [],
        "id": "PRTIjBPtWkW0"
      },
      "source": [
        "# TODO Run tests using different heuristics\n",
        "from random import shuffle\n",
        "import pickle\n",
        "\n",
        "arena_tasks = ReadTasksFromMovingAIFile('dao-scen/arena.map.scen')\n",
        "den001d_tasks = ReadTasksFromMovingAIFile('dao-scen/den001d.map.scen')\n",
        "\n",
        "shuffle(arena_tasks)\n",
        "shuffle(den001d_tasks)\n",
        "all_tasks = arena_tasks[:100] + den001d_tasks[:100]\n",
        "with open('all_tasks.pickle', 'wb') as f:\n",
        "    pickle.dump(all_tasks, f)\n"
      ],
      "execution_count": null,
      "outputs": []
    },
    {
      "cell_type": "code",
      "metadata": {
        "colab": {
          "base_uri": "https://localhost:8080/"
        },
        "id": "lRVmaIUy98bm",
        "outputId": "4e9fd1c3-b5a1-40f3-eb10-8146eceb024a"
      },
      "source": [
        "%%time\n",
        "results_2 = MassiveTest(AStar, 2, all_tasks, 'dao-map/')\n",
        "\n",
        "with open('results_2.pickle', 'wb') as f:\n",
        "    pickle.dump(results_2, f)"
      ],
      "execution_count": null,
      "outputs": [
        {
          "output_type": "stream",
          "text": [
            "100%|██████████| 200/200 [00:15<00:00, 12.68it/s]"
          ],
          "name": "stderr"
        },
        {
          "output_type": "stream",
          "text": [
            "CPU times: user 15 s, sys: 85 ms, total: 15.1 s\n",
            "Wall time: 15.8 s\n"
          ],
          "name": "stdout"
        },
        {
          "output_type": "stream",
          "text": [
            "\n"
          ],
          "name": "stderr"
        }
      ]
    },
    {
      "cell_type": "code",
      "metadata": {
        "colab": {
          "base_uri": "https://localhost:8080/"
        },
        "id": "j_3IOUks99GX",
        "outputId": "f6dc54cb-51bc-4bc9-9a4c-789d416f1ad8"
      },
      "source": [
        "%%time\n",
        "results_3 = MassiveTest(AStar, 3, all_tasks, 'dao-map/')\n",
        "\n",
        "with open('results_3.pickle', 'wb') as f:\n",
        "    pickle.dump(results_3, f)"
      ],
      "execution_count": null,
      "outputs": [
        {
          "output_type": "stream",
          "text": [
            "100%|██████████| 200/200 [00:41<00:00,  4.77it/s]"
          ],
          "name": "stderr"
        },
        {
          "output_type": "stream",
          "text": [
            "CPU times: user 41.5 s, sys: 121 ms, total: 41.6 s\n",
            "Wall time: 42 s\n"
          ],
          "name": "stdout"
        },
        {
          "output_type": "stream",
          "text": [
            "\n"
          ],
          "name": "stderr"
        }
      ]
    },
    {
      "cell_type": "code",
      "metadata": {
        "colab": {
          "base_uri": "https://localhost:8080/"
        },
        "id": "3v7oJvmm997c",
        "outputId": "6c0edca7-c8af-4b0d-c301-55bb311b92c6"
      },
      "source": [
        "%%time\n",
        "results_4 = MassiveTest(AStar, 4, all_tasks, 'dao-map/')\n",
        "    \n",
        "with open('results_4.pickle', 'wb') as f:\n",
        "    pickle.dump(results_4, f)"
      ],
      "execution_count": null,
      "outputs": [
        {
          "output_type": "stream",
          "text": [
            "100%|██████████| 200/200 [02:26<00:00,  1.37it/s]"
          ],
          "name": "stderr"
        },
        {
          "output_type": "stream",
          "text": [
            "CPU times: user 2min 25s, sys: 343 ms, total: 2min 25s\n",
            "Wall time: 2min 26s\n"
          ],
          "name": "stdout"
        },
        {
          "output_type": "stream",
          "text": [
            "\n"
          ],
          "name": "stderr"
        }
      ]
    },
    {
      "cell_type": "code",
      "metadata": {
        "colab": {
          "base_uri": "https://localhost:8080/"
        },
        "id": "mMqYA4LQ9-oL",
        "outputId": "7e3905fe-c6fc-4e91-ba44-0ee8fc4c0471"
      },
      "source": [
        "%%time\n",
        "results_5 = MassiveTest(AStar, 5, all_tasks, 'dao-map/')\n",
        "  \n",
        "with open('results_5.pickle', 'wb') as f:\n",
        "    pickle.dump(results_5, f)"
      ],
      "execution_count": null,
      "outputs": [
        {
          "output_type": "stream",
          "text": [
            "100%|██████████| 200/200 [09:19<00:00,  2.80s/it]"
          ],
          "name": "stderr"
        },
        {
          "output_type": "stream",
          "text": [
            "CPU times: user 9min 16s, sys: 1.16 s, total: 9min 17s\n",
            "Wall time: 9min 19s\n"
          ],
          "name": "stdout"
        },
        {
          "output_type": "stream",
          "text": [
            "\n"
          ],
          "name": "stderr"
        }
      ]
    },
    {
      "cell_type": "code",
      "metadata": {
        "colab": {
          "base_uri": "https://localhost:8080/"
        },
        "id": "7biRAtez9_My",
        "outputId": "ecc43cbe-856c-4218-d744-cd15d1bdeef2"
      },
      "source": [
        "%%time\n",
        "results_6 = MassiveTest(AStar, 6, all_tasks, 'dao-map/')\n",
        "\n",
        "with open('results_6.pickle', 'wb') as f:\n",
        "    pickle.dump(results_6, f)"
      ],
      "execution_count": null,
      "outputs": [
        {
          "output_type": "stream",
          "text": [
            "100%|██████████| 200/200 [38:54<00:00, 11.67s/it]"
          ],
          "name": "stderr"
        },
        {
          "output_type": "stream",
          "text": [
            "CPU times: user 38min 45s, sys: 4.34 s, total: 38min 49s\n",
            "Wall time: 38min 54s\n"
          ],
          "name": "stdout"
        },
        {
          "output_type": "stream",
          "text": [
            "\n"
          ],
          "name": "stderr"
        }
      ]
    },
    {
      "cell_type": "code",
      "metadata": {
        "id": "QfuSs3IWKceM"
      },
      "source": [
        "import pickle\n",
        "\n",
        "with open('all_tasks.pickle', 'rb') as f:\n",
        "    all_tasks = pickle.load(f)\n",
        "\n",
        "with open('results_2.pickle', 'rb') as f:\n",
        "    results_2 = pickle.load(f)\n",
        "\n",
        "with open('results_3.pickle', 'rb') as f:\n",
        "    results_3 = pickle.load(f)\n",
        "    \n",
        "with open('results_4.pickle', 'rb') as f:\n",
        "    results_4 = pickle.load(f)\n",
        "  \n",
        "with open('results_5.pickle', 'rb') as f:\n",
        "    results_5 = pickle.load(f)\n",
        "\n",
        "with open('results_6.pickle', 'rb') as f:\n",
        "    results_6 = pickle.load(f)\n",
        "\n",
        "with open('theta_results.pickle', 'rb') as f:\n",
        "    theta_results = pickle.load(f)\n",
        "\n",
        "with open('a_star_results.pickle', 'rb') as f:\n",
        "    a_star_results = pickle.load(f)"
      ],
      "execution_count": 4,
      "outputs": []
    },
    {
      "cell_type": "markdown",
      "metadata": {
        "id": "LWAFeClvWkW2"
      },
      "source": [
        "## Analyze the results\n",
        "\n",
        "Среднее время выполнения одной задачи растёт экспоненциально с ростом k. Это связано с тем, что количество последователей растёт экспоненциально от k."
      ]
    },
    {
      "cell_type": "code",
      "metadata": {
        "id": "evJl-_-RuMgY",
        "colab": {
          "base_uri": "https://localhost:8080/",
          "height": 350
        },
        "outputId": "75168b4e-2d2c-45ba-a045-0cb65bddf330"
      },
      "source": [
        "x = [2, 3, 4, 5, 6]\n",
        "y = [15.8/200, 42/200, (2*60 + 26)/200, (9*60 + 19)/200, (38*60 + 54)/200]\n",
        "plt.figure(figsize=[10, 5])\n",
        "plt.bar(x, y)\n",
        "plt.title('среднее время выполнения от k')\n",
        "plt.xlabel('k')\n",
        "plt.ylabel('mean time for one task, sec')\n",
        "plt.grid()"
      ],
      "execution_count": 145,
      "outputs": [
        {
          "output_type": "display_data",
          "data": {
            "image/png": "[encoded data removed]",
            "text/plain": [
              "<Figure size 720x360 with 1 Axes>"
            ]
          },
          "metadata": {
            "tags": [],
            "needs_background": "light"
          }
        }
      ]
    },
    {
      "cell_type": "code",
      "metadata": {
        "id": "2S9fmeVgKiVI",
        "colab": {
          "base_uri": "https://localhost:8080/",
          "height": 336
        },
        "outputId": "7ffc119b-dd7a-4047-d3d6-8bb932a2419a"
      },
      "source": [
        "plt.figure(figsize=[10, 5])\n",
        "k = ['k = 2', 'k = 3', 'k = 4', 'k = 5', 'k = 6', 'A star']\n",
        "lengths = [np.mean(results_2['length']), \n",
        "         np.mean(results_3['length']), \n",
        "         np.mean(results_4['length']), \n",
        "         np.mean(results_5['length']),\n",
        "         np.mean(results_6['length']),\n",
        "         np.mean(results_2['true_length'])]\n",
        "plt.bar(k, lengths)\n",
        "plt.title('mean path length from k')\n",
        "plt.grid()"
      ],
      "execution_count": 8,
      "outputs": [
        {
          "output_type": "display_data",
          "data": {
            "image/png": "[encoded data removed]",
            "text/plain": [
              "<Figure size 720x360 with 1 Axes>"
            ]
          },
          "metadata": {
            "tags": [],
            "needs_background": "light"
          }
        }
      ]
    },
    {
      "cell_type": "code",
      "metadata": {
        "id": "xhaCntXCWkW-",
        "colab": {
          "base_uri": "https://localhost:8080/",
          "height": 336
        },
        "outputId": "7a0d00ac-c364-440b-a112-c2af0bdf3079"
      },
      "source": [
        "plt.figure(figsize=[10, 5])\n",
        "k = ['k = 2', 'k = 3', 'k = 4', 'k = 5', 'k = 6']\n",
        "steps = [np.mean(results_2['number_of_steps']), \n",
        "         np.mean(results_3['number_of_steps']), \n",
        "         np.mean(results_4['number_of_steps']), \n",
        "         np.mean(results_5['number_of_steps']),\n",
        "         np.mean(results_6['number_of_steps'])]\n",
        "plt.bar(k, steps)\n",
        "plt.title('mean number of steps from k')\n",
        "plt.grid()"
      ],
      "execution_count": 146,
      "outputs": [
        {
          "output_type": "display_data",
          "data": {
            "image/png": "[encoded data removed]",
            "text/plain": [
              "<Figure size 720x360 with 1 Axes>"
            ]
          },
          "metadata": {
            "tags": [],
            "needs_background": "light"
          }
        }
      ]
    },
    {
      "cell_type": "code",
      "metadata": {
        "colab": {
          "base_uri": "https://localhost:8080/",
          "height": 336
        },
        "id": "EChspFodJJGN",
        "outputId": "66c8c19a-b99f-43d9-ea35-1ecc38783237"
      },
      "source": [
        "plt.figure(figsize=[10, 5])\n",
        "k = ['k = 2', 'k = 3', 'k = 4', 'k = 5', 'k = 6']\n",
        "steps = [np.mean(results_2['nodes_created']), \n",
        "         np.mean(results_3['nodes_created']), \n",
        "         np.mean(results_4['nodes_created']), \n",
        "         np.mean(results_5['nodes_created']),\n",
        "         np.mean(results_6['nodes_created'])]\n",
        "plt.bar(k, steps)\n",
        "plt.title('mean nodes created from k')\n",
        "plt.grid()"
      ],
      "execution_count": null,
      "outputs": [
        {
          "output_type": "display_data",
          "data": {
            "image/png": "[encoded data removed]",
            "text/plain": [
              "<Figure size 720x360 with 1 Axes>"
            ]
          },
          "metadata": {
            "tags": [],
            "needs_background": "light"
          }
        }
      ]
    },
    {
      "cell_type": "code",
      "metadata": {
        "id": "OXRtqnFjWkW3"
      },
      "source": [
        "# метод для вывода основных результатов и графиков\n",
        "def report(results):\n",
        "    found = np.array(results['found'])\n",
        "    is_optimal = np.array(results['is_optimal'])\n",
        "    length = np.array(results['length'])\n",
        "    true_length = np.array(results['true_length'])\n",
        "    nodes_created = np.array(results['nodes_created'])\n",
        "    number_of_steps = np.array(results['number_of_steps'])\n",
        "    \n",
        "    print('Found path ratio: ', np.mean(found))\n",
        "    #print('Optimal path ratio: ', is_optimal[found].mean())\n",
        "    print('Mean A star length: ', np.mean(true_length))\n",
        "    print('Mean 2**k A star length: ', np.mean(length))\n",
        "    print('Mean path error: ', np.abs(1 - (1e-7 + length[found]) / (1e-7 + true_length[found])).mean())\n",
        "    print('Mean number of steps: ', number_of_steps.mean())\n",
        "    print('Mean nodes created: ', np.mean(nodes_created))\n",
        "    \n",
        "    plt.figure(figsize=[15, 5])\n",
        "    \n",
        "    plt.subplot(1, 2, 1)\n",
        "    plt.scatter(true_length, nodes_created)\n",
        "    plt.yscale('log')\n",
        "    plt.xlabel('Path length')\n",
        "    plt.ylabel('Number of created nodes, log scale')\n",
        "    plt.grid()\n",
        "    \n",
        "    plt.subplot(1, 2, 2)\n",
        "    plt.scatter(true_length, number_of_steps)\n",
        "    plt.yscale('log')\n",
        "    plt.xlabel('Path length')\n",
        "    plt.ylabel('Number of steps, log scale')\n",
        "    plt.grid()"
      ],
      "execution_count": null,
      "outputs": []
    },
    {
      "cell_type": "code",
      "metadata": {
        "colab": {
          "base_uri": "https://localhost:8080/",
          "height": 436
        },
        "id": "P3eN8Fcc7C2L",
        "outputId": "f934ba28-112f-41d6-d8d7-87eabb6d393a"
      },
      "source": [
        "report(results_2)"
      ],
      "execution_count": null,
      "outputs": [
        {
          "output_type": "stream",
          "text": [
            "Found path ratio:  1.0\n",
            "Mean A star length:  57.933106750099995\n",
            "Mean 2**k A star length:  66.315\n",
            "Mean path error:  0.18039281237345228\n",
            "Mean number of steps:  564.445\n",
            "Mean nodes created:  641.43\n"
          ],
          "name": "stdout"
        },
        {
          "output_type": "display_data",
          "data": {
            "image/png": "[encoded data removed]",
            "text/plain": [
              "<Figure size 1080x360 with 2 Axes>"
            ]
          },
          "metadata": {
            "tags": [],
            "needs_background": "light"
          }
        }
      ]
    },
    {
      "cell_type": "code",
      "metadata": {
        "colab": {
          "base_uri": "https://localhost:8080/",
          "height": 436
        },
        "id": "TVcZTSW57PD6",
        "outputId": "50dc42d1-2c04-40b1-dc2d-b6a4673eb5d8"
      },
      "source": [
        "report(results_3)"
      ],
      "execution_count": null,
      "outputs": [
        {
          "output_type": "stream",
          "text": [
            "Found path ratio:  1.0\n",
            "Mean A star length:  57.933106750099995\n",
            "Mean 2**k A star length:  57.620213536864185\n",
            "Mean path error:  0.005661921903266087\n",
            "Mean number of steps:  488.765\n",
            "Mean nodes created:  528.13\n"
          ],
          "name": "stdout"
        },
        {
          "output_type": "display_data",
          "data": {
            "image/png": "[encoded data removed]",
            "text/plain": [
              "<Figure size 1080x360 with 2 Axes>"
            ]
          },
          "metadata": {
            "tags": [],
            "needs_background": "light"
          }
        }
      ]
    },
    {
      "cell_type": "code",
      "metadata": {
        "colab": {
          "base_uri": "https://localhost:8080/",
          "height": 436
        },
        "id": "YyEFIeQL7aJ9",
        "outputId": "da80f88b-a26b-4007-9108-866a6d12a4ec"
      },
      "source": [
        "report(results_4)"
      ],
      "execution_count": null,
      "outputs": [
        {
          "output_type": "stream",
          "text": [
            "Found path ratio:  1.0\n",
            "Mean A star length:  57.933106750099995\n",
            "Mean 2**k A star length:  55.93166111219342\n",
            "Mean path error:  0.03963362232811013\n",
            "Mean number of steps:  451.935\n",
            "Mean nodes created:  494.735\n"
          ],
          "name": "stdout"
        },
        {
          "output_type": "display_data",
          "data": {
            "image/png": "[encoded data removed]",
            "text/plain": [
              "<Figure size 1080x360 with 2 Axes>"
            ]
          },
          "metadata": {
            "tags": [],
            "needs_background": "light"
          }
        }
      ]
    },
    {
      "cell_type": "code",
      "metadata": {
        "colab": {
          "base_uri": "https://localhost:8080/",
          "height": 436
        },
        "id": "WCwbg2mj8928",
        "outputId": "ea622744-a6b7-474d-a1a3-4f9941c26603"
      },
      "source": [
        "report(results_5)"
      ],
      "execution_count": null,
      "outputs": [
        {
          "output_type": "stream",
          "text": [
            "Found path ratio:  1.0\n",
            "Mean A star length:  57.933106750099995\n",
            "Mean 2**k A star length:  55.51161387699372\n",
            "Mean path error:  0.04742622728694343\n",
            "Mean number of steps:  439.595\n",
            "Mean nodes created:  500.005\n"
          ],
          "name": "stdout"
        },
        {
          "output_type": "display_data",
          "data": {
            "image/png": "[encoded data removed]",
            "text/plain": [
              "<Figure size 1080x360 with 2 Axes>"
            ]
          },
          "metadata": {
            "tags": [],
            "needs_background": "light"
          }
        }
      ]
    },
    {
      "cell_type": "code",
      "metadata": {
        "colab": {
          "base_uri": "https://localhost:8080/",
          "height": 436
        },
        "id": "OrVo8nWG9CND",
        "outputId": "e7a09c4a-78a0-4dfe-c28e-1f3b02b6361e"
      },
      "source": [
        "report(results_6)"
      ],
      "execution_count": null,
      "outputs": [
        {
          "output_type": "stream",
          "text": [
            "Found path ratio:  1.0\n",
            "Mean A star length:  57.933106750099995\n",
            "Mean 2**k A star length:  55.370522369824215\n",
            "Mean path error:  0.04977742869378842\n",
            "Mean number of steps:  440.875\n",
            "Mean nodes created:  540.275\n"
          ],
          "name": "stdout"
        },
        {
          "output_type": "display_data",
          "data": {
            "image/png": "[encoded data removed]",
            "text/plain": [
              "<Figure size 1080x360 with 2 Axes>"
            ]
          },
          "metadata": {
            "tags": [],
            "needs_background": "light"
          }
        }
      ]
    },
    {
      "cell_type": "markdown",
      "metadata": {
        "id": "4mltvNOK5Dl1"
      },
      "source": [
        "# Сравнение алгоритмов"
      ]
    },
    {
      "cell_type": "code",
      "metadata": {
        "colab": {
          "base_uri": "https://localhost:8080/",
          "height": 336
        },
        "id": "sVZ54siC5RPU",
        "outputId": "0e151c5e-9f89-414a-80b4-78395ce76584"
      },
      "source": [
        "plt.figure(figsize=[10, 5])\n",
        "x = ['A star', 'k = 2', 'Theta', 'k = 3', 'k = 4', 'k = 5', 'k = 6']\n",
        "time = [8.92/200, \n",
        "         15.8/200, \n",
        "         28.9/200,\n",
        "         42/200, \n",
        "         (2*60 + 26)/200,\n",
        "         (9*60 + 19)/200,\n",
        "         (38*60 + 54)/200]\n",
        "plt.bar(x, time)\n",
        "plt.title('mean time for 1 task')\n",
        "plt.grid()"
      ],
      "execution_count": 7,
      "outputs": [
        {
          "output_type": "display_data",
          "data": {
            "image/png": "[encoded data removed]",
            "text/plain": [
              "<Figure size 720x360 with 1 Axes>"
            ]
          },
          "metadata": {
            "tags": [],
            "needs_background": "light"
          }
        }
      ]
    },
    {
      "cell_type": "code",
      "metadata": {
        "colab": {
          "base_uri": "https://localhost:8080/",
          "height": 336
        },
        "id": "qa_xHZda6ffU",
        "outputId": "22535a99-9a22-45bb-a535-0f69441a4625"
      },
      "source": [
        "plt.figure(figsize=[10, 5])\n",
        "k = ['k = 2', 'A star', 'k = 3', 'k = 4', 'k = 5', 'Theta', 'k = 6']\n",
        "lengths = [np.mean(results_2['length']),\n",
        "         np.mean(a_star_results['length']),   \n",
        "         np.mean(results_3['length']), \n",
        "         np.mean(results_4['length']), \n",
        "         np.mean(results_5['length']),\n",
        "         np.mean(theta_results['length']),\n",
        "         np.mean(results_6['length'])]\n",
        "plt.bar(k, lengths)\n",
        "plt.title('mean path length')\n",
        "plt.grid()"
      ],
      "execution_count": 18,
      "outputs": [
        {
          "output_type": "display_data",
          "data": {
            "image/png": "[encoded data removed]",
            "text/plain": [
              "<Figure size 720x360 with 1 Axes>"
            ]
          },
          "metadata": {
            "tags": [],
            "needs_background": "light"
          }
        }
      ]
    },
    {
      "cell_type": "code",
      "metadata": {
        "colab": {
          "base_uri": "https://localhost:8080/",
          "height": 336
        },
        "id": "F2HSburw8X20",
        "outputId": "07b0468e-1f43-4100-ce6a-2783c1180bab"
      },
      "source": [
        "plt.figure(figsize=[10, 5])\n",
        "x = ['k = 2', 'A star', 'k = 3', 'k = 4', 'k = 5', 'Theta', 'k = 6']\n",
        "lengths = [np.mean(results_2['length']) - 50, \n",
        "         np.mean(a_star_results['length']) - 50,  \n",
        "         np.mean(results_3['length']) - 50, \n",
        "         np.mean(results_4['length']) - 50, \n",
        "         np.mean(results_5['length']) - 50,\n",
        "         np.mean(theta_results['length']) - 50,\n",
        "         np.mean(results_6['length']) - 50]\n",
        "plt.bar(x, lengths)\n",
        "plt.title('mean path length - 50')\n",
        "plt.grid()"
      ],
      "execution_count": 21,
      "outputs": [
        {
          "output_type": "display_data",
          "data": {
            "image/png": "[encoded data removed]",
            "text/plain": [
              "<Figure size 720x360 with 1 Axes>"
            ]
          },
          "metadata": {
            "tags": [],
            "needs_background": "light"
          }
        }
      ]
    },
    {
      "cell_type": "code",
      "metadata": {
        "colab": {
          "base_uri": "https://localhost:8080/",
          "height": 336
        },
        "id": "BK-puRwF7T0y",
        "outputId": "5b140e77-819a-45d9-8ec5-dd2a64e72616"
      },
      "source": [
        "plt.figure(figsize=[10, 5])\n",
        "x = ['k = 2', 'k = 3', 'k = 4', 'k = 5', 'k = 6', 'A star', 'Theta']\n",
        "steps = [np.mean(results_2['number_of_steps']), \n",
        "         np.mean(results_3['number_of_steps']), \n",
        "         np.mean(results_4['number_of_steps']), \n",
        "         np.mean(results_5['number_of_steps']),\n",
        "         np.mean(results_6['number_of_steps']),\n",
        "         np.mean(a_star_results['number_of_steps']),\n",
        "         np.mean(theta_results['number_of_steps'])]\n",
        "plt.bar(x, steps)\n",
        "plt.title('mean number of steps')\n",
        "plt.grid()"
      ],
      "execution_count": 22,
      "outputs": [
        {
          "output_type": "display_data",
          "data": {
            "image/png": "[encoded data removed]",
            "text/plain": [
              "<Figure size 720x360 with 1 Axes>"
            ]
          },
          "metadata": {
            "tags": [],
            "needs_background": "light"
          }
        }
      ]
    },
    {
      "cell_type": "code",
      "metadata": {
        "colab": {
          "base_uri": "https://localhost:8080/",
          "height": 336
        },
        "id": "qnrHVJle-9Lo",
        "outputId": "2208c865-d467-44ab-f9e8-4b729742aae1"
      },
      "source": [
        "plt.figure(figsize=[10, 5])\n",
        "x = ['k = 2', 'k = 3', 'k = 4', 'k = 5', 'k = 6', 'A star', 'Theta']\n",
        "nodes = [np.mean(results_2['nodes_created']), \n",
        "         np.mean(results_3['nodes_created']), \n",
        "         np.mean(results_4['nodes_created']), \n",
        "         np.mean(results_5['nodes_created']),\n",
        "         np.mean(results_6['nodes_created']),\n",
        "         np.mean(a_star_results['nodes_created']),\n",
        "         np.mean(theta_results['nodes_created'])]\n",
        "plt.bar(x, nodes)\n",
        "plt.title('mean nodes created')\n",
        "plt.grid()"
      ],
      "execution_count": 23,
      "outputs": [
        {
          "output_type": "display_data",
          "data": {
            "image/png": "[encoded data removed]",
            "text/plain": [
              "<Figure size 720x360 with 1 Axes>"
            ]
          },
          "metadata": {
            "tags": [],
            "needs_background": "light"
          }
        }
      ]
    }
  ]
}